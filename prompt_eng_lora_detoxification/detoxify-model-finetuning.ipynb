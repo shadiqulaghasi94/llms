{
 "cells": [
  {
   "cell_type": "markdown",
   "id": "d7f10b19-c061-42b2-8b42-e3cbafa3b1da",
   "metadata": {},
   "source": [
    "### Fine-Tune FLAN-T5 with Reinforcement Learning (PPO) and PEFT to Generate Less-Toxic Summaries"
   ]
  },
  {
   "cell_type": "markdown",
   "id": "36ef668a-9c51-489b-be47-a07a09ef2289",
   "metadata": {},
   "source": [
    "n this notebook, we will detoxify the pre-trained Google's LLM [FLAN-T5](https://huggingface.co/google/flan-t5-base) from HuggingFace and fine-tuned on the [CNN dataset](https://huggingface.co/datasets/cnn_dailymail), which contains ~1M articles from the CNN DailyMail. They come with the corresponding manually labeled summaries.\n",
    "\n",
    "To generate less toxic content, we'll use Meta AI's hate speech reward model. The reward model is a binary classifier that predicts either `not hate` or `hate` for the given text. The algorithm used to perform this task is called **Proximal Policy Optimization ([PPO](https://en.wikipedia.org/wiki/Proximal_Policy_Optimization))**.\n",
    "\n",
    "You may need to install the following libraries:"
   ]
  },
  {
   "cell_type": "markdown",
   "id": "5b83825f",
   "metadata": {
    "tags": []
   },
   "source": [
    "```\n",
    "%pip install --upgrade pip\n",
    "%pip install --disable-pip-version-check \\\n",
    "    torch==1.13.1 \\\n",
    "    torchdata==0.5.1 --quiet\n",
    "\n",
    "%pip install \\\n",
    "    transformers==4.27.2 \\\n",
    "    datasets==2.11.0 \\\n",
    "    evaluate==0.4.0 \\\n",
    "    rouge_score==0.1.2 \\\n",
    "    peft==0.3.0 --quiet\n",
    "\n",
    "# Installing the Reinforcement Learning library directly from github.\n",
    "%pip install git+https://github.com/lvwerra/trl.git@25fa1bd    \n",
    "```"
   ]
  },
  {
   "cell_type": "code",
   "execution_count": 1,
   "id": "d8c20bed-6a30-4847-a507-02969ecb4465",
   "metadata": {
    "tags": []
   },
   "outputs": [
    {
     "name": "stdout",
     "output_type": "stream",
     "text": [
      "WARNING:tensorflow:From C:\\Users\\A0860164\\AppData\\Roaming\\Python\\Python311\\site-packages\\keras\\src\\losses.py:2976: The name tf.losses.sparse_softmax_cross_entropy is deprecated. Please use tf.compat.v1.losses.sparse_softmax_cross_entropy instead.\n",
      "\n",
      "WARNING:tensorflow:From C:\\Users\\A0860164\\AppData\\Roaming\\Python\\Python311\\site-packages\\tensorflow_probability\\python\\internal\\backend\\numpy\\_utils.py:48: The name tf.logging.TaskLevelStatusMessage is deprecated. Please use tf.compat.v1.logging.TaskLevelStatusMessage instead.\n",
      "\n",
      "WARNING:tensorflow:From C:\\Users\\A0860164\\AppData\\Roaming\\Python\\Python311\\site-packages\\tensorflow_probability\\python\\internal\\backend\\numpy\\_utils.py:48: The name tf.control_flow_v2_enabled is deprecated. Please use tf.compat.v1.control_flow_v2_enabled instead.\n",
      "\n"
     ]
    }
   ],
   "source": [
    "from transformers import pipeline, AutoTokenizer, AutoModelForSequenceClassification, AutoModelForSeq2SeqLM, GenerationConfig\n",
    "from datasets import load_dataset\n",
    "from peft import PeftModel, PeftConfig, LoraConfig, TaskType               # PEFT/LORA fine-tuning\n",
    "\n",
    "from trl import PPOTrainer, PPOConfig, AutoModelForSeq2SeqLMWithValueHead  # trl: Transformer Reinforcement Learning\n",
    "from trl import create_reference_model\n",
    "from trl.core import LengthSampler\n",
    "\n",
    "import torch\n",
    "import evaluate\n",
    "\n",
    "import numpy as np\n",
    "import pandas as pd\n",
    "\n",
    "from tqdm import tqdm                                                       # to show progress\n",
    "tqdm.pandas()"
   ]
  },
  {
   "cell_type": "markdown",
   "id": "b76eea84-8e3a-4487-9692-613977e6c8e3",
   "metadata": {},
   "source": [
    "#### Load FLAN-T5 Model, Prepare Reward Model and Toxicity Evaluator"
   ]
  },
  {
   "cell_type": "code",
   "execution_count": 4,
   "id": "b058b52b-ec4d-4426-8d71-91e898f727f6",
   "metadata": {
    "tags": []
   },
   "outputs": [
    {
     "data": {
      "text/plain": [
       "DatasetDict({\n",
       "    train: Dataset({\n",
       "        features: ['article', 'highlights', 'id'],\n",
       "        num_rows: 287113\n",
       "    })\n",
       "    validation: Dataset({\n",
       "        features: ['article', 'highlights', 'id'],\n",
       "        num_rows: 13368\n",
       "    })\n",
       "    test: Dataset({\n",
       "        features: ['article', 'highlights', 'id'],\n",
       "        num_rows: 11490\n",
       "    })\n",
       "})"
      ]
     },
     "execution_count": 4,
     "metadata": {},
     "output_type": "execute_result"
    }
   ],
   "source": [
    "dataset_original = load_dataset(\"cnn_dailymail\", \"3.0.0\", verification_mode=\"no_checks\") # load dataset\n",
    "dataset_original"
   ]
  },
  {
   "cell_type": "markdown",
   "id": "668d30d6-6f81-4e52-a81a-3057163ddb0e",
   "metadata": {},
   "source": [
    "Now that we have the dataset, we can do some preprocessing and select only some more relevant articles (based on their length).\n",
    "We can, then, build the prompts, saving the token ids in the field `input_ids` and decoded version of the prompts in the field `query`."
   ]
  },
  {
   "cell_type": "code",
   "execution_count": 15,
   "id": "51469abe-4d72-4093-a6c6-8e04e19f09eb",
   "metadata": {},
   "outputs": [
    {
     "data": {
      "application/vnd.jupyter.widget-view+json": {
       "model_id": "db94716ee50a43abaa29415167db9927",
       "version_major": 2,
       "version_minor": 0
      },
      "text/plain": [
       "Filter:   0%|          | 0/287113 [00:00<?, ? examples/s]"
      ]
     },
     "metadata": {},
     "output_type": "display_data"
    },
    {
     "data": {
      "application/vnd.jupyter.widget-view+json": {
       "model_id": "1a505f35fdb64365b0f772a2635e2a0b",
       "version_major": 2,
       "version_minor": 0
      },
      "text/plain": [
       "Map:   0%|          | 0/3341 [00:00<?, ? examples/s]"
      ]
     },
     "metadata": {},
     "output_type": "display_data"
    },
    {
     "name": "stdout",
     "output_type": "stream",
     "text": [
      "DatasetDict({\n",
      "    train: Dataset({\n",
      "        features: ['article', 'highlights', 'id', 'input_ids', 'query'],\n",
      "        num_rows: 2672\n",
      "    })\n",
      "    test: Dataset({\n",
      "        features: ['article', 'highlights', 'id', 'input_ids', 'query'],\n",
      "        num_rows: 669\n",
      "    })\n",
      "})\n"
     ]
    }
   ],
   "source": [
    "# create a tiny dataset for this notebook\n",
    "def build_dataset(model_name, dataset, input_min_text_length, input_max_text_length):\n",
    "\n",
    "    \"\"\"\n",
    "    Preprocess the dataset and split it into train and test parts.\n",
    "\n",
    "    Parameters:\n",
    "    - model_name (str): Tokenizer model name.\n",
    "    - dataset (str): Dataset already loaded.\n",
    "    - input_min_text_length (int): Minimum length of the dialogues.\n",
    "    - input_max_text_length (int): Maximum length of the dialogues.\n",
    "        \n",
    "    Returns:\n",
    "    - dataset_splits (datasets.dataset_dict.DatasetDict): Preprocessed dataset containing train and test parts.\n",
    "    \"\"\"\n",
    "    \n",
    "    # load dataset\n",
    "    dataset = dataset[\"train\"]\n",
    "    \n",
    "    # Filter the articles of length between input_min_text_length and input_max_text_length characters.\n",
    "    dataset = dataset.filter(lambda x: len(x[\"article\"]) > input_min_text_length and len(x[\"article\"]) <= input_max_text_length, batched=False)\n",
    "\n",
    "    # Prepare tokenizer. Setting device_map=\"auto\" allows to switch between GPU and CPU automatically.\n",
    "    tokenizer = AutoTokenizer.from_pretrained(model_name, device_map=\"auto\")\n",
    "    \n",
    "    def tokenize(sample):\n",
    "        \n",
    "        # Wrap each dialogue with the instruction.\n",
    "        prompt = f\"\"\"\n",
    "        Summarize the following article.\n",
    "\n",
    "        {sample[\"article\"]}\n",
    "\n",
    "        Summary:\n",
    "        \"\"\"\n",
    "        sample[\"input_ids\"] = tokenizer.encode(prompt)\n",
    "        \n",
    "        # This must be called \"query\", which is a requirement of our PPO library.\n",
    "        sample[\"query\"] = tokenizer.decode(sample[\"input_ids\"])\n",
    "        return sample\n",
    "\n",
    "    # Tokenize each dialogue.\n",
    "    dataset = dataset.map(tokenize, batched=False)\n",
    "    dataset.set_format(type=\"torch\")\n",
    "    \n",
    "    # Split the dataset into train and test parts.\n",
    "    dataset_splits = dataset.train_test_split(test_size=0.2, shuffle=False, seed=42)\n",
    "\n",
    "    return dataset_splits\n",
    "\n",
    "dataset = build_dataset(model_name=\"google/flan-t5-base\", \n",
    "                        dataset=dataset_original,\n",
    "                        input_min_text_length=200, \n",
    "                        input_max_text_length=1000)\n",
    "\n",
    "print(dataset)"
   ]
  },
  {
   "cell_type": "code",
   "execution_count": 16,
   "id": "a1f06806-a194-4c14-b64d-e31afd7b658c",
   "metadata": {},
   "outputs": [],
   "source": [
    "# util function to print model parameters\n",
    "def print_number_of_trainable_model_parameters(model):\n",
    "    trainable_model_params = 0\n",
    "    all_model_params = 0\n",
    "    for _, param in model.named_parameters():\n",
    "        all_model_params += param.numel()\n",
    "        if param.requires_grad:\n",
    "            trainable_model_params += param.numel()\n",
    "    return f\"\\ntrainable model parameters: {trainable_model_params}\\nall model parameters: {all_model_params}\\npercentage of trainable model parameters: {100 * trainable_model_params / all_model_params:.2f}%\""
   ]
  },
  {
   "cell_type": "markdown",
   "id": "21e06a57-fb80-4f8c-a967-4c7c42a7bfda",
   "metadata": {
    "tags": []
   },
   "source": [
    "Here we will load a pre-trained LoRA adapter (saved locally) for the original FLAN-T5 model. Since here we're using this checkpoint as intermediate step and not only for inference, we need to set `is_trainable=True` in the model definition."
   ]
  },
  {
   "cell_type": "code",
   "execution_count": 17,
   "id": "a1a94b14-b375-45e7-9e49-a7f2c341b4ff",
   "metadata": {
    "tags": []
   },
   "outputs": [
    {
     "name": "stdout",
     "output_type": "stream",
     "text": [
      "PEFT model parameters to be updated:\n",
      "\n",
      "trainable model parameters: 3538944\n",
      "all model parameters: 251116800\n",
      "percentage of trainable model parameters: 1.41%\n",
      "\n"
     ]
    }
   ],
   "source": [
    "lora_config = LoraConfig(\n",
    "    r=32, # Rank\n",
    "    lora_alpha=32,\n",
    "    target_modules=[\"q\", \"v\"],\n",
    "    lora_dropout=0.05,\n",
    "    bias=\"none\",\n",
    "    task_type=TaskType.SEQ_2_SEQ_LM # FLAN-T5\n",
    ")\n",
    "\n",
    "model = AutoModelForSeq2SeqLM.from_pretrained(model_name, \n",
    "                                              torch_dtype=torch.bfloat16)\n",
    "\n",
    "peft_model = PeftModel.from_pretrained(model, \n",
    "                                       './peft-dialogue-summary-checkpoint-local/', \n",
    "                                       lora_config=lora_config,\n",
    "                                       torch_dtype=torch.bfloat16, \n",
    "                                       device_map=\"auto\",                                       \n",
    "                                       is_trainable=True)\n",
    "\n",
    "print(f'PEFT model parameters to be updated:\\n{print_number_of_trainable_model_parameters(peft_model)}\\n')"
   ]
  },
  {
   "cell_type": "markdown",
   "id": "a950ae8a-76b9-4951-9c78-9ac7a6349e17",
   "metadata": {},
   "source": [
    "As we're getting ready to fine-tune the LLM using Reinforcement Learning (RL), we need tp set the **Proximal Policy Optimization (PPO)** model passing the PEFT model to it. PPO will be used to optimize the RL policy against the reward model."
   ]
  },
  {
   "cell_type": "code",
   "execution_count": 18,
   "id": "1e86bab0-6dee-4dff-a754-b584ed962723",
   "metadata": {},
   "outputs": [
    {
     "name": "stdout",
     "output_type": "stream",
     "text": [
      "PPO model parameters to be updated (ValueHead + 769 params):\n",
      "\n",
      "trainable model parameters: 3539713\n",
      "all model parameters: 251117569\n",
      "percentage of trainable model parameters: 1.41%\n",
      "\n",
      "ValueHead(\n",
      "  (dropout): Dropout(p=0.1, inplace=False)\n",
      "  (summary): Linear(in_features=768, out_features=1, bias=True)\n",
      "  (flatten): Flatten(start_dim=1, end_dim=-1)\n",
      ")\n"
     ]
    }
   ],
   "source": [
    "ppo_model = AutoModelForSeq2SeqLMWithValueHead.from_pretrained(peft_model, torch_dtype=torch.bfloat16, is_trainable=True)\n",
    "\n",
    "print(f'PPO model parameters to be updated (ValueHead + 769 params):\\n{print_number_of_trainable_model_parameters(ppo_model)}\\n')\n",
    "print(ppo_model.v_head)"
   ]
  },
  {
   "cell_type": "markdown",
   "id": "2913ef05-737e-4cdf-9bac-467ee6cf9f76",
   "metadata": {},
   "source": [
    "During PPO, only a few parameters will be updated. Specifically, the parameters of the `ValueHead`. More information about this class of models can be found [here](https://huggingface.co/docs/trl/main/en/models#trl.create_reference_model). The number of trainable parameters can be computed as $(n+1)*m$, where $n$ is the number of input units (here $n=768$) and $m$ is the number of output units (you have $m=1$). The $+1$ term in the equation takes into account the bias term."
   ]
  },
  {
   "cell_type": "markdown",
   "id": "76c7e2df-0c75-4bd0-bf8d-1f1545ef864e",
   "metadata": {},
   "source": [
    "Now create a frozen copy of the PPO which will not be fine-tuned - a reference model. The reference model will represent the LLM before detoxification. None of the parameters of the reference model will be updated during PPO training. This is on purpose."
   ]
  },
  {
   "cell_type": "code",
   "execution_count": 19,
   "id": "18a9b30a-ad14-4189-8088-d4de447fe247",
   "metadata": {},
   "outputs": [
    {
     "name": "stdout",
     "output_type": "stream",
     "text": [
      "Reference model parameters to be updated:\n",
      "\n",
      "trainable model parameters: 0\n",
      "all model parameters: 251117569\n",
      "percentage of trainable model parameters: 0.00%\n",
      "\n"
     ]
    }
   ],
   "source": [
    "ref_model = create_reference_model(ppo_model)\n",
    "\n",
    "print(f'Reference model parameters to be updated:\\n{print_number_of_trainable_model_parameters(ref_model)}\\n')"
   ]
  },
  {
   "cell_type": "markdown",
   "id": "e3a14848-e83d-4fdd-bc68-eb770c5951d7",
   "metadata": {
    "tags": []
   },
   "source": [
    "Everything is set. It is time to prepare the reward model!"
   ]
  },
  {
   "cell_type": "markdown",
   "id": "4bfdf1f7-3509-4adc-812a-2b22bd330137",
   "metadata": {},
   "source": [
    "#### Prepare Reward Model\n",
    "\n",
    "**Reinforcement Learning (RL)** is one type of machine learning where agents take actions in an environment aimed at maximizing their cumulative rewards. The agent's behavior is defined by a **policy**, while the goal of RL is for the agent to learn an optimal, or nearly-optimal, policy that maximizes a **reward function**. \n",
    "\n",
    "In our case, the original policy is based on the PEFT model (i.e., the LLM before detoxification). Since asking human labelers to give feedback on the outputs' toxicity is very expensive, it's easier to use a reward model encouraging the agent to detoxify the article highlights. Here, it means performing a sentiment analysis across two classes (`nothate` and `hate`) and give a higher reward if there is higher a chance of getting the class `nothate` as an output. \n",
    "\n",
    "The reward model that we'll use here is the [Meta AI's RoBERTa-based hate speech model](https://huggingface.co/facebook/roberta-hate-speech-dynabench-r4-target). This model will output **logits** and then predict probabilities across two classes: `nothate` and `hate`. The logits of the output `nothate` will be taken as a positive reward. Then, the model will be fine-tuned with PPO using those reward values."
   ]
  },
  {
   "cell_type": "code",
   "execution_count": 20,
   "id": "7f038a9f-e04b-49bc-8923-8ef3816919ee",
   "metadata": {
    "tags": []
   },
   "outputs": [
    {
     "data": {
      "application/vnd.jupyter.widget-view+json": {
       "model_id": "876ff56075a84c849624af01defddf75",
       "version_major": 2,
       "version_minor": 0
      },
      "text/plain": [
       "tokenizer_config.json:   0%|          | 0.00/1.11k [00:00<?, ?B/s]"
      ]
     },
     "metadata": {},
     "output_type": "display_data"
    },
    {
     "name": "stderr",
     "output_type": "stream",
     "text": [
      "C:\\Users\\A0860164\\AppData\\Roaming\\Python\\Python311\\site-packages\\huggingface_hub\\file_download.py:149: UserWarning: `huggingface_hub` cache-system uses symlinks by default to efficiently store duplicated files but your machine does not support them in C:\\Users\\A0860164\\.cache\\huggingface\\hub\\models--facebook--roberta-hate-speech-dynabench-r4-target. Caching files will still work but in a degraded version that might require more space on your disk. This warning can be disabled by setting the `HF_HUB_DISABLE_SYMLINKS_WARNING` environment variable. For more details, see https://huggingface.co/docs/huggingface_hub/how-to-cache#limitations.\n",
      "To support symlinks on Windows, you either need to activate Developer Mode or to run Python as an administrator. In order to see activate developer mode, see this article: https://docs.microsoft.com/en-us/windows/apps/get-started/enable-your-device-for-development\n",
      "  warnings.warn(message)\n"
     ]
    },
    {
     "data": {
      "application/vnd.jupyter.widget-view+json": {
       "model_id": "7a765818c5df49eb909d30a2d6c96245",
       "version_major": 2,
       "version_minor": 0
      },
      "text/plain": [
       "vocab.json:   0%|          | 0.00/899k [00:00<?, ?B/s]"
      ]
     },
     "metadata": {},
     "output_type": "display_data"
    },
    {
     "data": {
      "application/vnd.jupyter.widget-view+json": {
       "model_id": "2753019b68fb4d72b5da67c12394b705",
       "version_major": 2,
       "version_minor": 0
      },
      "text/plain": [
       "merges.txt:   0%|          | 0.00/456k [00:00<?, ?B/s]"
      ]
     },
     "metadata": {},
     "output_type": "display_data"
    },
    {
     "data": {
      "application/vnd.jupyter.widget-view+json": {
       "model_id": "b757870557b24b1e98a85657150f5c4b",
       "version_major": 2,
       "version_minor": 0
      },
      "text/plain": [
       "special_tokens_map.json:   0%|          | 0.00/239 [00:00<?, ?B/s]"
      ]
     },
     "metadata": {},
     "output_type": "display_data"
    },
    {
     "data": {
      "application/vnd.jupyter.widget-view+json": {
       "model_id": "e089fb235bb64e419b9981fca13512b2",
       "version_major": 2,
       "version_minor": 0
      },
      "text/plain": [
       "config.json:   0%|          | 0.00/816 [00:00<?, ?B/s]"
      ]
     },
     "metadata": {},
     "output_type": "display_data"
    },
    {
     "data": {
      "application/vnd.jupyter.widget-view+json": {
       "model_id": "2afadb5d23c34fd8827f6cab5e0764b8",
       "version_major": 2,
       "version_minor": 0
      },
      "text/plain": [
       "model.safetensors:   0%|          | 0.00/499M [00:00<?, ?B/s]"
      ]
     },
     "metadata": {},
     "output_type": "display_data"
    },
    {
     "name": "stdout",
     "output_type": "stream",
     "text": [
      "{0: 'nothate', 1: 'hate'}\n"
     ]
    }
   ],
   "source": [
    "toxicity_model_name = \"facebook/roberta-hate-speech-dynabench-r4-target\"\n",
    "toxicity_tokenizer = AutoTokenizer.from_pretrained(toxicity_model_name, device_map=\"auto\") # used to test the model\n",
    "toxicity_model = AutoModelForSequenceClassification.from_pretrained(toxicity_model_name, device_map=\"auto\")\n",
    "print(toxicity_model.config.id2label)"
   ]
  },
  {
   "cell_type": "markdown",
   "id": "79d68799-a6e8-42d7-8d61-002e47210c18",
   "metadata": {
    "tags": []
   },
   "source": [
    "##### Examples\n",
    "\n",
    "Let's see one example with some *non-toxic* text:"
   ]
  },
  {
   "cell_type": "code",
   "execution_count": 24,
   "id": "8f4e6a05-2398-4ca7-a176-d5a1ff27fe39",
   "metadata": {
    "tags": []
   },
   "outputs": [
    {
     "name": "stdout",
     "output_type": "stream",
     "text": [
      "logits [not hate, hate]:\t[3.114100933074951, -2.4896178245544434]\n",
      "probabilities [not hate, hate]:\t[0.9963293671607971, 0.003670614678412676]\n",
      "reward (high):\t\t\t[3.114100933074951]\n"
     ]
    }
   ],
   "source": [
    "# Example 1 - Non-toxic text\n",
    "non_toxic_text = \"#Person 1# tells Tommy that he didn't like the movie.\"\n",
    "\n",
    "toxicity_input_ids = toxicity_tokenizer(non_toxic_text, return_tensors=\"pt\").input_ids\n",
    "\n",
    "logits = toxicity_model(input_ids=toxicity_input_ids).logits\n",
    "print(f'logits [not hate, hate]:\\t{logits.tolist()[0]}')\n",
    "\n",
    "# Print the probabilities for [not hate, hate]\n",
    "probabilities = logits.softmax(dim=-1).tolist()[0]\n",
    "print(f'probabilities [not hate, hate]:\\t{probabilities}')\n",
    "\n",
    "# get the logits for \"not hate\" - this is the reward!\n",
    "not_hate_index = 0\n",
    "nothate_reward = (logits[:, not_hate_index]).tolist()\n",
    "print(f'reward (high):\\t\\t\\t{nothate_reward}')"
   ]
  },
  {
   "cell_type": "markdown",
   "id": "63f729c5-98c3-4745-96e8-3484670215db",
   "metadata": {},
   "source": [
    "Let's now see what happens when using some *toxic* text:"
   ]
  },
  {
   "cell_type": "code",
   "execution_count": 25,
   "id": "0ffc81e4-b220-4f4e-95ec-98ac418612d1",
   "metadata": {
    "tags": []
   },
   "outputs": [
    {
     "name": "stdout",
     "output_type": "stream",
     "text": [
      "logits [not hate, hate]:\t[-0.6921191811561584, 0.37227335572242737]\n",
      "probabilities [not hate, hate]:\t[0.2564709186553955, 0.7435290813446045]\n",
      "reward (low):\t\t\t[-0.6921191811561584]\n"
     ]
    }
   ],
   "source": [
    "# Example 2 - Toxic text\n",
    "toxic_text = \"#Person 1# tells Tommy that the movie was terrible, dumb and stupid.\"\n",
    "\n",
    "toxicity_input_ids = toxicity_tokenizer(toxic_text, return_tensors=\"pt\").input_ids\n",
    "\n",
    "logits = toxicity_model(toxicity_input_ids).logits\n",
    "print(f'logits [not hate, hate]:\\t{logits.tolist()[0]}')\n",
    "\n",
    "# Print the probabilities for [not hate, hate]\n",
    "probabilities = logits.softmax(dim=-1).tolist()[0]\n",
    "print(f'probabilities [not hate, hate]:\\t{probabilities}')\n",
    "\n",
    "# Get the logits for \"not hate\" - this is the reward!\n",
    "nothate_reward = (logits[:, not_hate_index]).tolist() \n",
    "print(f'reward (low):\\t\\t\\t{nothate_reward}')"
   ]
  },
  {
   "cell_type": "markdown",
   "id": "bc6e656e-fefe-4623-8bbb-472a8cf1c3c5",
   "metadata": {},
   "source": [
    "As we can see, in the 2nd case the text gets a higher probability of being hateful, thus the reward is negative (i.e., more like a punishment)."
   ]
  },
  {
   "cell_type": "markdown",
   "id": "e488e89f",
   "metadata": {},
   "source": [
    "##### HuggingFace inference pipeline"
   ]
  },
  {
   "cell_type": "code",
   "execution_count": 26,
   "id": "73aab8c6-33eb-4bf4-a816-3866fc3460af",
   "metadata": {
    "tags": []
   },
   "outputs": [
    {
     "name": "stdout",
     "output_type": "stream",
     "text": [
      "Reward model output:\n",
      "For non-toxic text\n",
      "[{'label': 'nothate', 'score': 3.114100933074951}, {'label': 'hate', 'score': -2.4896178245544434}]\n",
      "[{'label': 'nothate', 'score': 0.9963293671607971}, {'label': 'hate', 'score': 0.0036706149112433195}]\n",
      "For toxic text\n",
      "[{'label': 'hate', 'score': 0.37227335572242737}, {'label': 'nothate', 'score': -0.6921191811561584}]\n",
      "[{'label': 'hate', 'score': 0.7435290813446045}, {'label': 'nothate', 'score': 0.2564709186553955}]\n"
     ]
    }
   ],
   "source": [
    "device = 0 if torch.cuda.is_available() else \"cpu\"\n",
    "\n",
    "sentiment_pipe = pipeline(\"sentiment-analysis\", model=toxicity_model_name, device=device)\n",
    "reward_logits_kwargs = {\n",
    "    \"top_k\": None,                  # Return all scores.\n",
    "    \"function_to_apply\": \"none\",    # Set to \"none\" to retrieve raw logits.\n",
    "    \"batch_size\": 16\n",
    "}\n",
    "\n",
    "reward_probabilities_kwargs = {\n",
    "    \"top_k\": None,                  # Return all scores.\n",
    "    \"function_to_apply\": \"softmax\", # Set to \"softmax\" to apply softmax and retrieve probabilities.\n",
    "    \"batch_size\": 16\n",
    "}\n",
    "\n",
    "print(\"Reward model output:\")\n",
    "print(\"For non-toxic text\")\n",
    "print(sentiment_pipe(non_toxic_text, **reward_logits_kwargs))\n",
    "print(sentiment_pipe(non_toxic_text, **reward_probabilities_kwargs))\n",
    "print(\"For toxic text\")\n",
    "print(sentiment_pipe(toxic_text, **reward_logits_kwargs))\n",
    "print(sentiment_pipe(toxic_text, **reward_probabilities_kwargs))"
   ]
  },
  {
   "cell_type": "markdown",
   "id": "21302d74-59d8-451f-b287-e86245bf3324",
   "metadata": {},
   "source": [
    "The outputs are the logits for both `nothate` (positive) and `hate` (negative) classes. But PPO will be using logits only of the `nothate` class as the positive reward signal used to help detoxify the LLM outputs."
   ]
  },
  {
   "cell_type": "code",
   "execution_count": 27,
   "id": "36ff3925-70c4-495c-ae26-68e2fc36296b",
   "metadata": {},
   "outputs": [
    {
     "name": "stdout",
     "output_type": "stream",
     "text": [
      "[{'label': 'nothate', 'score': 3.114100933074951}, {'label': 'hate', 'score': -2.4896178245544434}]\n",
      "[{'label': 'nothate', 'score': 0.9963293671607971}, {'label': 'hate', 'score': 0.0036706149112433195}]\n"
     ]
    }
   ],
   "source": [
    "print(sentiment_pipe(non_toxic_text, **reward_logits_kwargs))\n",
    "print(sentiment_pipe(non_toxic_text, **reward_probabilities_kwargs))"
   ]
  },
  {
   "cell_type": "code",
   "execution_count": 28,
   "id": "8d11618b-5887-489a-b390-2139e364987f",
   "metadata": {},
   "outputs": [
    {
     "name": "stdout",
     "output_type": "stream",
     "text": [
      "[{'label': 'hate', 'score': 0.37227335572242737}, {'label': 'nothate', 'score': -0.6921191811561584}]\n",
      "[{'label': 'hate', 'score': 0.7435290813446045}, {'label': 'nothate', 'score': 0.2564709186553955}]\n"
     ]
    }
   ],
   "source": [
    "print(sentiment_pipe(toxic_text, **reward_logits_kwargs))\n",
    "print(sentiment_pipe(toxic_text, **reward_probabilities_kwargs))"
   ]
  },
  {
   "cell_type": "markdown",
   "id": "56513033-9bb1-41d5-81e2-54d1249c5c89",
   "metadata": {
    "tags": []
   },
   "source": [
    "#### Evaluate Toxicity\n",
    "\n",
    "To evaluate the model before and after fine-tuning/detoxification you need to set up the [toxicity evaluation metric](https://huggingface.co/spaces/evaluate-measurement/toxicity). The **toxicity score** is a decimal value between 0 and 1 where 1 is the highest toxicity."
   ]
  },
  {
   "cell_type": "code",
   "execution_count": 29,
   "id": "7de8e99d-60ea-48a2-bdf5-817f80b48979",
   "metadata": {
    "tags": []
   },
   "outputs": [
    {
     "data": {
      "application/vnd.jupyter.widget-view+json": {
       "model_id": "c73538cb697f4b349efccc6aeaab8930",
       "version_major": 2,
       "version_minor": 0
      },
      "text/plain": [
       "Downloading builder script:   0%|          | 0.00/6.08k [00:00<?, ?B/s]"
      ]
     },
     "metadata": {},
     "output_type": "display_data"
    }
   ],
   "source": [
    "toxicity_evaluator = evaluate.load(\"toxicity\", toxicity_model_name, module_type=\"measurement\", toxic_label=\"hate\")"
   ]
  },
  {
   "cell_type": "markdown",
   "id": "840fbc47-c5c2-469a-b5f2-6407e8f0bfde",
   "metadata": {
    "tags": []
   },
   "source": [
    "We can measure the toxicity of the two examples above. As we can see, the toxicity metric well represents what we want and assigns a higher score to the more toxic text:"
   ]
  },
  {
   "cell_type": "code",
   "execution_count": 39,
   "id": "5298f91c-30d1-4d17-95a7-553952ac97b5",
   "metadata": {
    "tags": []
   },
   "outputs": [
    {
     "name": "stdout",
     "output_type": "stream",
     "text": [
      "Toxicity score for non-toxic text:\t0.37%\n",
      "Toxicity score for toxic text:\t\t74.35%\n"
     ]
    }
   ],
   "source": [
    "toxicity_score = toxicity_evaluator.compute(predictions=[non_toxic_text])\n",
    "print(f\"Toxicity score for non-toxic text:\\t{toxicity_score['toxicity'][0]:.2%}\")\n",
    "\n",
    "toxicity_score = toxicity_evaluator.compute(predictions=[toxic_text])\n",
    "print(f\"Toxicity score for toxic text:\\t\\t{toxicity_score['toxicity'][0]:.2%}\")"
   ]
  },
  {
   "cell_type": "markdown",
   "id": "7d3e835b-14b9-4646-b1c9-c975ef3ea944",
   "metadata": {
    "tags": []
   },
   "source": [
    "This evaluator can be used to compute the toxicity of the articles in or train/test datasets. We can do this with the following function, that takes a dataset, the tokenzer, and the frozen PEFT as input:"
   ]
  },
  {
   "cell_type": "code",
   "execution_count": 40,
   "id": "316ab128-33ff-4a1e-8936-47bfa29d48a3",
   "metadata": {
    "tags": []
   },
   "outputs": [],
   "source": [
    "def evaluate_toxicity(model, toxicity_evaluator, tokenizer, dataset, num_samples):\n",
    "    \n",
    "    \"\"\"\n",
    "    Preprocess the dataset and split it into train and test parts.\n",
    "\n",
    "    Parameters:\n",
    "    - model (trl model): Model to be evaluated.\n",
    "    - toxicity_evaluator (evaluate_modules toxicity metrics): Toxicity evaluator.\n",
    "    - tokenizer (transformers tokenizer): Tokenizer to be used.\n",
    "    - dataset (dataset): Input dataset for the evaluation.\n",
    "    - num_samples (int): Maximum number of samples for the evaluation.\n",
    "        \n",
    "    Returns:\n",
    "    tuple: A tuple containing two numpy.float64 values:\n",
    "    - mean (numpy.float64): Mean of the samples toxicity.\n",
    "    - std (numpy.float64): Standard deviation of the samples toxicity.\n",
    "    \"\"\"\n",
    "\n",
    "    max_new_tokens=100\n",
    "\n",
    "    toxicities = []\n",
    "    input_texts = []\n",
    "    for i, sample in tqdm(enumerate(dataset)):\n",
    "        input_text = sample[\"query\"]\n",
    "        if i > num_samples:\n",
    "            break\n",
    "            \n",
    "        input_ids = tokenizer(input_text, return_tensors=\"pt\", padding=True).input_ids\n",
    "        generation_config = GenerationConfig(max_new_tokens=max_new_tokens, top_k=0.0, top_p=1.0, do_sample=True)\n",
    "        response_token_ids = model.generate(input_ids=input_ids, generation_config=generation_config)\n",
    "        generated_text = tokenizer.decode(response_token_ids[0], skip_special_tokens=True)\n",
    "        toxicity_score = toxicity_evaluator.compute(predictions=[(input_text + \" \" + generated_text)])\n",
    "        toxicities.extend(toxicity_score[\"toxicity\"])\n",
    "\n",
    "    mean = np.mean(toxicities)\n",
    "    std = np.std(toxicities)\n",
    "        \n",
    "    return mean, std"
   ]
  },
  {
   "cell_type": "markdown",
   "id": "aed269c3-dbd7-4d45-bc44-c6ab6d4ae141",
   "metadata": {
    "tags": []
   },
   "source": [
    "And now perform the calculation of the model toxicity before fine-tuning/detoxification:"
   ]
  },
  {
   "cell_type": "code",
   "execution_count": 41,
   "id": "c11ede15-dc1a-4a7e-a60d-b9cadfc7d876",
   "metadata": {
    "tags": []
   },
   "outputs": [
    {
     "name": "stderr",
     "output_type": "stream",
     "text": [
      "11it [00:23,  2.14s/it]"
     ]
    },
    {
     "name": "stdout",
     "output_type": "stream",
     "text": [
      "toxicity [mean, std] before detox: [0.001872384343931282, 0.0023433647308500564]\n"
     ]
    },
    {
     "name": "stderr",
     "output_type": "stream",
     "text": [
      "\n"
     ]
    }
   ],
   "source": [
    "tokenizer = AutoTokenizer.from_pretrained(model_name, device_map=\"auto\")\n",
    "\n",
    "mean_before_detoxification, std_before_detoxification = evaluate_toxicity(model=ref_model, \n",
    "                                                                          toxicity_evaluator=toxicity_evaluator, \n",
    "                                                                          tokenizer=tokenizer, \n",
    "                                                                          dataset=dataset[\"test\"], \n",
    "                                                                          num_samples=10)\n",
    "\n",
    "print(f'toxicity [mean, std] before detox: [{mean_before_detoxification}, {std_before_detoxification}]')"
   ]
  },
  {
   "cell_type": "markdown",
   "id": "1ba81c90-1ac8-4403-ac1a-d4c75c6df4f0",
   "metadata": {},
   "source": [
    "#### Perform Fine-Tuning to Detoxify the Summaries\n",
    "At this point we can optimize our RL policy against the reward model using Proximal Policy Optimization (PPO)."
   ]
  },
  {
   "cell_type": "markdown",
   "id": "5516e318-8fce-4ca7-bf19-b7baf5255480",
   "metadata": {},
   "source": [
    "##### Initialize `PPOTrainer`\n",
    " \n",
    "For the `PPOTrainer` initialization, we need a collator. Here it will be the function transforming the dictionaries in a particular way shown below:"
   ]
  },
  {
   "cell_type": "code",
   "execution_count": 42,
   "id": "8b7be1c0-382a-4fe2-8174-470f3e333e84",
   "metadata": {},
   "outputs": [
    {
     "name": "stdout",
     "output_type": "stream",
     "text": [
      "Collator input: [{'key1': 'value1', 'key2': 'value2', 'key3': 'value3'}]\n",
      "Collator output: {'key1': ['value1'], 'key2': ['value2'], 'key3': ['value3']}\n"
     ]
    }
   ],
   "source": [
    "def collator(data):\n",
    "    return dict((key, [d[key] for d in data]) for key in data[0])\n",
    "\n",
    "test_data = [{\"key1\": \"value1\", \"key2\": \"value2\", \"key3\": \"value3\"}]\n",
    "print(f'Collator input: {test_data}')\n",
    "print(f'Collator output: {collator(test_data)}')"
   ]
  },
  {
   "cell_type": "markdown",
   "id": "080c2e92-4988-4944-8353-0e1bb2048072",
   "metadata": {},
   "source": [
    "The `PPOTrainer` can now be configured."
   ]
  },
  {
   "cell_type": "markdown",
   "id": "8224f707",
   "metadata": {},
   "source": [
    "After loading the `ppo_model` and the tokenizer. **Note** that two models are necessary here: the model that is optimized and the original model, called here `ref_model`. This is because while the first model is optimized, the second one serves as a reference to calculate the KL-divergence from the starting point. This works as an additional reward signal in the PPO training to make sure the optimized model does not deviate too much from the original LLM."
   ]
  },
  {
   "cell_type": "code",
   "execution_count": 43,
   "id": "494e09a1-9024-4f38-91eb-d73cdc3239e6",
   "metadata": {},
   "outputs": [],
   "source": [
    "learning_rate=1.41e-5\n",
    "max_ppo_epochs=1\n",
    "mini_batch_size=4\n",
    "batch_size=16\n",
    "\n",
    "config = PPOConfig(\n",
    "    model_name=model_name,    \n",
    "    learning_rate=learning_rate,\n",
    "    ppo_epochs=max_ppo_epochs,\n",
    "    mini_batch_size=mini_batch_size,\n",
    "    batch_size=batch_size\n",
    ")\n",
    "\n",
    "ppo_trainer = PPOTrainer(config=config, \n",
    "                         model=ppo_model, \n",
    "                         ref_model=ref_model,      # frozen version of the model\n",
    "                         tokenizer=tokenizer, \n",
    "                         dataset=dataset[\"train\"], \n",
    "                         data_collator=collator)"
   ]
  },
  {
   "cell_type": "markdown",
   "id": "7ad77d2c-3800-4e15-bb38-3851d94ad374",
   "metadata": {},
   "source": [
    "##### Fine-Tune the Model (~30 mins runtime)"
   ]
  },
  {
   "cell_type": "markdown",
   "id": "0cac21fb-fea5-4e80-a741-87f35ae72c62",
   "metadata": {},
   "source": [
    "The fine-tuning loop consists of the following main steps:\n",
    "1. Get the query responses from the policy LLM (PEFT model).\n",
    "2. Get sentiments for query/responses from hate speech RoBERTa model.\n",
    "3. Optimize policy with PPO using the (query, response, reward) triplet.\n",
    "\n",
    "The operation is running if you see the following metrics appearing:\n",
    "* `objective/kl`: minimize kl divergence,\n",
    "* `ppo/returns/mean`: maximize mean returns,\n",
    "* `ppo/policy/advantages_mean`: maximize advantages."
   ]
  },
  {
   "cell_type": "code",
   "execution_count": 44,
   "id": "4bc55397-92b8-4f61-9ec2-c8b39d5f8962",
   "metadata": {
    "tags": []
   },
   "outputs": [
    {
     "name": "stderr",
     "output_type": "stream",
     "text": [
      "0it [00:00, ?it/s]You're using a T5TokenizerFast tokenizer. Please note that with a fast tokenizer, using the `__call__` method is faster than using a method to encode the text followed by a call to the `pad` method to get a padded encoding.\n",
      "1it [02:03, 123.54s/it]"
     ]
    },
    {
     "name": "stdout",
     "output_type": "stream",
     "text": [
      "objective/kl: 0.019849255681037903\n",
      "ppo/returns/mean: 2.3097753524780273\n",
      "ppo/policy/advantages_mean: 1.4881951670986382e-08\n",
      "---------------------------------------------------------------------------------------------------\n"
     ]
    },
    {
     "name": "stderr",
     "output_type": "stream",
     "text": [
      "\r",
      "2it [04:00, 119.83s/it]"
     ]
    },
    {
     "name": "stdout",
     "output_type": "stream",
     "text": [
      "objective/kl: -0.02060961350798607\n",
      "ppo/returns/mean: 1.78458571434021\n",
      "ppo/policy/advantages_mean: -2.3215060096504203e-08\n",
      "---------------------------------------------------------------------------------------------------\n"
     ]
    },
    {
     "name": "stderr",
     "output_type": "stream",
     "text": [
      "\r",
      "3it [05:59, 119.54s/it]"
     ]
    },
    {
     "name": "stdout",
     "output_type": "stream",
     "text": [
      "objective/kl: -0.01089716237038374\n",
      "ppo/returns/mean: 2.0317835807800293\n",
      "ppo/policy/advantages_mean: 3.7101983707543695e-08\n",
      "---------------------------------------------------------------------------------------------------\n"
     ]
    },
    {
     "name": "stderr",
     "output_type": "stream",
     "text": [
      "\r",
      "4it [08:27, 130.73s/it]"
     ]
    },
    {
     "name": "stdout",
     "output_type": "stream",
     "text": [
      "objective/kl: 0.003847053274512291\n",
      "ppo/returns/mean: 1.9629297256469727\n",
      "ppo/policy/advantages_mean: 1.419125794654974e-07\n",
      "---------------------------------------------------------------------------------------------------\n"
     ]
    },
    {
     "name": "stderr",
     "output_type": "stream",
     "text": [
      "\r",
      "5it [11:00, 138.72s/it]"
     ]
    },
    {
     "name": "stdout",
     "output_type": "stream",
     "text": [
      "objective/kl: -0.004880266264081001\n",
      "ppo/returns/mean: 1.8345730304718018\n",
      "ppo/policy/advantages_mean: 4.783043294764866e-09\n",
      "---------------------------------------------------------------------------------------------------\n"
     ]
    },
    {
     "name": "stderr",
     "output_type": "stream",
     "text": [
      "\r",
      "6it [13:31, 142.97s/it]"
     ]
    },
    {
     "name": "stdout",
     "output_type": "stream",
     "text": [
      "objective/kl: 0.025684449821710587\n",
      "ppo/returns/mean: 1.888061761856079\n",
      "ppo/policy/advantages_mean: -1.9904891956912252e-08\n",
      "---------------------------------------------------------------------------------------------------\n"
     ]
    },
    {
     "name": "stderr",
     "output_type": "stream",
     "text": [
      "\r",
      "7it [15:56, 143.53s/it]"
     ]
    },
    {
     "name": "stdout",
     "output_type": "stream",
     "text": [
      "objective/kl: 0.034124914556741714\n",
      "ppo/returns/mean: 2.0538034439086914\n",
      "ppo/policy/advantages_mean: -2.7457463858127085e-08\n",
      "---------------------------------------------------------------------------------------------------\n"
     ]
    },
    {
     "name": "stderr",
     "output_type": "stream",
     "text": [
      "\r",
      "8it [18:32, 147.57s/it]"
     ]
    },
    {
     "name": "stdout",
     "output_type": "stream",
     "text": [
      "objective/kl: 0.023807549849152565\n",
      "ppo/returns/mean: 1.9823936223983765\n",
      "ppo/policy/advantages_mean: 3.776089130269611e-08\n",
      "---------------------------------------------------------------------------------------------------\n"
     ]
    },
    {
     "name": "stderr",
     "output_type": "stream",
     "text": [
      "\r",
      "9it [21:42, 160.73s/it]"
     ]
    },
    {
     "name": "stdout",
     "output_type": "stream",
     "text": [
      "objective/kl: -0.0023454194888472557\n",
      "ppo/returns/mean: 1.6306171417236328\n",
      "ppo/policy/advantages_mean: 2.8497428417040283e-08\n",
      "---------------------------------------------------------------------------------------------------\n"
     ]
    },
    {
     "name": "stderr",
     "output_type": "stream",
     "text": [
      "10it [24:30, 147.01s/it]"
     ]
    },
    {
     "name": "stdout",
     "output_type": "stream",
     "text": [
      "objective/kl: 0.019251052290201187\n",
      "ppo/returns/mean: 2.155226945877075\n",
      "ppo/policy/advantages_mean: 9.549399493380406e-08\n",
      "---------------------------------------------------------------------------------------------------\n"
     ]
    },
    {
     "name": "stderr",
     "output_type": "stream",
     "text": [
      "\n"
     ]
    }
   ],
   "source": [
    "output_min_length = 100\n",
    "output_max_length = 400\n",
    "output_length_sampler = LengthSampler(output_min_length, output_max_length)\n",
    "\n",
    "generation_kwargs = {\"min_length\": 5, \"top_k\": 0.0, \"top_p\": 1.0, \"do_sample\": True}\n",
    "reward_kwargs = {\"top_k\": None, \"function_to_apply\": \"none\", \"batch_size\": 16}\n",
    "\n",
    "max_ppo_steps = 10\n",
    "\n",
    "for step, batch in tqdm(enumerate(ppo_trainer.dataloader)):\n",
    "    # Break when you reach max_steps.\n",
    "    if step >= max_ppo_steps:\n",
    "        break   \n",
    "\n",
    "    prompt_tensors = batch[\"input_ids\"]\n",
    "\n",
    "    # Get response from FLAN-T5/PEFT LLM.\n",
    "    summary_tensors = []\n",
    "\n",
    "    for prompt_tensor in prompt_tensors:\n",
    "        max_new_tokens = output_length_sampler()        \n",
    "            \n",
    "        generation_kwargs[\"max_new_tokens\"] = max_new_tokens\n",
    "        summary = ppo_trainer.generate(prompt_tensor, **generation_kwargs)\n",
    "        \n",
    "        summary_tensors.append(summary.squeeze()[-max_new_tokens:])\n",
    "        \n",
    "    # This needs to be called \"response\".\n",
    "    batch[\"response\"] = [tokenizer.decode(r.squeeze()) for r in summary_tensors]\n",
    "\n",
    "    # Compute reward outputs.\n",
    "    query_response_pairs = [q + r for q, r in zip(batch[\"query\"], batch[\"response\"])]    \n",
    "    rewards = sentiment_pipe(query_response_pairs, **reward_kwargs)\n",
    "\n",
    "    # You use the `nothate` item because this is the score for the positive `nothate` class.\n",
    "    reward_tensors = [torch.tensor(reward[not_hate_index][\"score\"]) for reward in rewards]    \n",
    "\n",
    "    # Run PPO step.\n",
    "    stats = ppo_trainer.step(prompt_tensors, summary_tensors, reward_tensors)\n",
    "    ppo_trainer.log_stats(stats, batch, reward_tensors)\n",
    "    \n",
    "    print(f'objective/kl: {stats[\"objective/kl\"]}')\n",
    "    print(f'ppo/returns/mean: {stats[\"ppo/returns/mean\"]}')\n",
    "    print(f'ppo/policy/advantages_mean: {stats[\"ppo/policy/advantages_mean\"]}')\n",
    "    print('-'.join('' for x in range(100)))"
   ]
  },
  {
   "cell_type": "markdown",
   "id": "7903f5df-a9de-41eb-b239-38bc367b5654",
   "metadata": {},
   "source": [
    "##### Evaluate the Model Quantitatively\n",
    "\n",
    "We can load the PPO/PEFT model back in and use the test dataset split to evaluate the toxicity score of the RL-fine-tuned model."
   ]
  },
  {
   "cell_type": "code",
   "execution_count": 45,
   "id": "3b093d43-6197-4cc0-b933-29030479a7d0",
   "metadata": {
    "tags": []
   },
   "outputs": [
    {
     "name": "stderr",
     "output_type": "stream",
     "text": [
      "11it [00:27,  2.50s/it]"
     ]
    },
    {
     "name": "stdout",
     "output_type": "stream",
     "text": [
      "toxicity [mean, std] after detox: [0.0027875636746598916, 0.004031045784112161]\n"
     ]
    },
    {
     "name": "stderr",
     "output_type": "stream",
     "text": [
      "\n"
     ]
    }
   ],
   "source": [
    "mean_after_detoxification, std_after_detoxification = evaluate_toxicity(model=ppo_model, \n",
    "                                                                        toxicity_evaluator=toxicity_evaluator, \n",
    "                                                                        tokenizer=tokenizer, \n",
    "                                                                        dataset=dataset[\"test\"], \n",
    "                                                                        num_samples=10)\n",
    "print(f'toxicity [mean, std] after detox: [{mean_after_detoxification}, {std_after_detoxification}]')"
   ]
  },
  {
   "cell_type": "markdown",
   "id": "f42895cc-7bbf-45e1-a7c7-78ee29cd8009",
   "metadata": {
    "tags": []
   },
   "source": [
    "Then, we can compare the toxicity scores of the reference model (before detoxification) and fine-tuned model (after detoxification)."
   ]
  },
  {
   "cell_type": "code",
   "execution_count": 49,
   "id": "77cc3af2-6600-4673-874b-917c05247ae3",
   "metadata": {},
   "outputs": [
    {
     "name": "stdout",
     "output_type": "stream",
     "text": [
      "Percentage improvement of toxicity score after detoxification:\n",
      "[Negative means toxicity is reducing]\n",
      "mean:\t-48.9%\n",
      "std:\t-72.0%\n"
     ]
    }
   ],
   "source": [
    "mean_improvement = (mean_before_detoxification - mean_after_detoxification) / mean_before_detoxification\n",
    "std_improvement = (std_before_detoxification - std_after_detoxification) / std_before_detoxification\n",
    "\n",
    "print(f'Percentage improvement of toxicity score after detoxification:')\n",
    "print(f'[Negative means toxicity is reducing]')\n",
    "print(f'mean:\\t{mean_improvement:.1%}')\n",
    "print(f'std:\\t{std_improvement:.1%}')"
   ]
  },
  {
   "cell_type": "markdown",
   "id": "66030581-b6f7-41d7-a7e6-2466226833be",
   "metadata": {},
   "source": [
    "##### Evaluate the Model Qualitatively (~3 mins runtime)\n",
    "\n",
    "Let's inspect some examples from the test dataset. We can compare the original `ref_model` to the fine-tuned/detoxified `ppo_model` using the toxicity evaluator."
   ]
  },
  {
   "cell_type": "code",
   "execution_count": 50,
   "id": "22cc8313-20ae-4d32-855e-9b2866fa3085",
   "metadata": {},
   "outputs": [
    {
     "name": "stderr",
     "output_type": "stream",
     "text": [
      "100%|██████████████████████████████████████████████████████████████████████████████████| 20/20 [01:51<00:00,  5.59s/it]\n"
     ]
    }
   ],
   "source": [
    "batch_size = 20\n",
    "compare_results = {}\n",
    "\n",
    "df_batch = dataset[\"test\"][0:batch_size]\n",
    "\n",
    "compare_results[\"query\"] = df_batch[\"query\"]\n",
    "prompt_tensors = df_batch[\"input_ids\"]\n",
    "\n",
    "summary_tensors_ref = []\n",
    "summary_tensors = []\n",
    "\n",
    "# Get response from ppo and base model.\n",
    "for i in tqdm(range(batch_size)):\n",
    "    gen_len = output_length_sampler()\n",
    "    generation_kwargs[\"max_new_tokens\"] = gen_len\n",
    "    \n",
    "    summary = ref_model.generate(\n",
    "        input_ids=torch.as_tensor(prompt_tensors[i]).unsqueeze(dim=0).to(device), \n",
    "        **generation_kwargs\n",
    "    ).squeeze()[-gen_len:]\n",
    "    summary_tensors_ref.append(summary)\n",
    "\n",
    "    summary = ppo_model.generate(\n",
    "        input_ids=torch.as_tensor(prompt_tensors[i]).unsqueeze(dim=0).to(device), \n",
    "        **generation_kwargs\n",
    "    ).squeeze()[-gen_len:]\n",
    "    summary_tensors.append(summary)\n",
    "\n",
    "# Decode responses.\n",
    "compare_results[\"response_before\"] = [tokenizer.decode(summary_tensors_ref[i]) for i in range(batch_size)]\n",
    "compare_results[\"response_after\"] = [tokenizer.decode(summary_tensors[i]) for i in range(batch_size)]\n",
    "\n",
    "# Sentiment analysis of query/response pairs before/after.\n",
    "texts_before = [d + s for d, s in zip(compare_results[\"query\"], compare_results[\"response_before\"])]\n",
    "rewards_before = sentiment_pipe(texts_before, **reward_kwargs)\n",
    "compare_results[\"reward_before\"] = [reward[not_hate_index][\"score\"] for reward in rewards_before]\n",
    "\n",
    "texts_after = [d + s for d, s in zip(compare_results[\"query\"], compare_results[\"response_after\"])]\n",
    "rewards_after = sentiment_pipe(texts_after, **reward_kwargs)\n",
    "compare_results[\"reward_after\"] = [reward[not_hate_index][\"score\"] for reward in rewards_after]"
   ]
  },
  {
   "cell_type": "code",
   "execution_count": 52,
   "id": "e06fff0f-9dba-4517-9424-a5ebd81e8f49",
   "metadata": {
    "tags": []
   },
   "outputs": [
    {
     "data": {
      "text/html": [
       "<div>\n",
       "<style scoped>\n",
       "    .dataframe tbody tr th:only-of-type {\n",
       "        vertical-align: middle;\n",
       "    }\n",
       "\n",
       "    .dataframe tbody tr th {\n",
       "        vertical-align: top;\n",
       "    }\n",
       "\n",
       "    .dataframe thead th {\n",
       "        text-align: right;\n",
       "    }\n",
       "</style>\n",
       "<table border=\"1\" class=\"dataframe\">\n",
       "  <thead>\n",
       "    <tr style=\"text-align: right;\">\n",
       "      <th></th>\n",
       "      <th>query</th>\n",
       "      <th>response_before</th>\n",
       "      <th>response_after</th>\n",
       "      <th>reward_before</th>\n",
       "      <th>reward_after</th>\n",
       "      <th>reward_diff</th>\n",
       "    </tr>\n",
       "  </thead>\n",
       "  <tbody>\n",
       "    <tr>\n",
       "      <th>0</th>\n",
       "      <td>Summarize the following article. Maria Sharapova is used to making back page headlines but she doesn't always see someone reading an article about her. The World number four saw a passenger reading about her and tweeted a picture saying how she can see the piece. The passenger thought he was just casually reading about a tennis star oblivious to the fact that she was in fact right behind him. Maria Sharapova posts a picture of a passenger reading an article about her on a flight. The tennis ...</td>\n",
       "      <td>&lt;pad&gt; Top-ranked Maria Sharapova got some work on her silliness. She features in pictures and tweets about her best times in nearly 15 years.&lt;/s&gt;</td>\n",
       "      <td>&lt;pad&gt; Maria Sharapova knew a passenger was reading an article about her but she was just behind her. Sharapova is one of the world's best tennis stars and after falling to defeat at Dublin 1992 Martin Wuertmuller saw the story online. The blogger had stopped reading when a passenger asked her about the information. On other flights, she saw an article about her while outs-the-way in Shanghai. Sharapova has made headlines after even struggling at her weight.&lt;/s&gt;</td>\n",
       "      <td>2.655499</td>\n",
       "      <td>3.426647</td>\n",
       "      <td>0.771148</td>\n",
       "    </tr>\n",
       "    <tr>\n",
       "      <th>1</th>\n",
       "      <td>Summarize the following article. By. Jeff Powell. Follow @@jeffpowell_Mail. As five-division world champion Floyd Mayweather and Marcos Maidana prepare to go head-to-head in Las Vegas, Sportsmail's boxing columnist Jeff Powell gives his verdict from the MGM Grand... Mayweather won their fight in May by unanimous decision but the former WBA welterweight champion Maidana is back at the MGM Grand to reclaim his title. 'I think we'll see Mayweather mobile and very difficult to hit. The issue is ...</td>\n",
       "      <td>&lt;pad&gt; Floyd Mayweather, Marcos Maidana receive unanimous decision at MGM Grand. The five-division champion Wire cut the need for an extra bout. Serbia-born fighter remains in-form but inevitably will wait for Mayweather.&lt;/s&gt;</td>\n",
       "      <td>&lt;pad&gt; Floyd Mayweather to contest Marcos Maidana in Las Vegas. Mayweather’s win over Maidana is confirmed by a unanimous decision at MGM Grand. Maidana is undefeated at the top of the takeover defence.&lt;/s&gt;</td>\n",
       "      <td>2.664360</td>\n",
       "      <td>3.288665</td>\n",
       "      <td>0.624305</td>\n",
       "    </tr>\n",
       "    <tr>\n",
       "      <th>2</th>\n",
       "      <td>Summarize the following article. By. Ap Reporter. A Swiss football club says it will investigate reports that some of its fans urinated in a water bottle that a rival goalkeeper then drank from. Reto Felder, a goalkeeper who plays for Muri in the Swiss fourth division, claims he first though his drink was warmed by the sun. He called the prank 'crude and disgraceful', according to the Blick daily newspaper. Fans in the crowd - reportedly around 500 strong - persuaded a ball boy to pass them ...</td>\n",
       "      <td>&lt;pad&gt; Baden president promises to investigate offence of fans-pirate custodian.&lt;/s&gt;</td>\n",
       "      <td>&lt;pad&gt; Baogen goalkeeper says fans urinated in a bottle during a match. German goalkeeper says he tried to pass it to a ball boy. Football club says it will investigate. Fans sang in a garden hose, uncertain affect. It is thought like-for-like wine, marbled pork, ham, pastry. Neither player was able to consume alcohol to be legally under Swiss law.&lt;/s&gt;</td>\n",
       "      <td>2.435017</td>\n",
       "      <td>2.844114</td>\n",
       "      <td>0.409098</td>\n",
       "    </tr>\n",
       "    <tr>\n",
       "      <th>3</th>\n",
       "      <td>Summarize the following article. Charles James 'flipped out' while doing drugs with his 14-year-old daughter in hotel room. A father 'flipped out' while allegedly doing drugs with his 14-year-old daughter in hotel room. Charles James was arrested on Monday after an employee at a Baytown, Texas, hotel heard screams for help coming from a room. Police were called to Palace Inn Hotel and found James in the room with his teenage daughter. Detectives said James, 36, appeared to be under the influ...</td>\n",
       "      <td>&lt;pad&gt; Charles James was arrested on Monday after room on Baytown, Texas hotel heard screams for help. He appeared to be under the influence of drugs but otherwise isn't coherent. Family's father 'flipped out' poses 'Changing head' at hospital following well-taken drug search.&lt;/s&gt;</td>\n",
       "      <td>&lt;pad&gt; Charles James has been arrested 'drowsily' on Monday and charged with child endangerment with child endangerment. James had come down with an seizure in the hotel while the girl asleep. Police cleared him of suspicion of child endangerment and today he was released without charge.&lt;/s&gt;</td>\n",
       "      <td>2.830459</td>\n",
       "      <td>3.117796</td>\n",
       "      <td>0.287337</td>\n",
       "    </tr>\n",
       "    <tr>\n",
       "      <th>4</th>\n",
       "      <td>Summarize the following article. James Ward slipped to a straight-sets second-round defeat to number four seed Grigor Dimitrov at the Queen's Club Aegon Championships. British No. 3 Ward saw off Slovenian Blaz Rola on Monday, but was unable to produce what would have been a big upset against Bulgarian Dimitrov. VIDEO Scroll down to watch Tomas Berdych answer quickfire question at Queen's. A step too far: James Ward was beaten in straight sets by fourth seed Grigor Dimitrov. Soaking up the su...</td>\n",
       "      <td>&lt;pad&gt; James Ward falls to job-scary second-wicket defeat by first seed Dimitrov. British No. 3 missed out against Bulgarian Dimitrov in first match at first round.&lt;/s&gt;</td>\n",
       "      <td>&lt;pad&gt; James Ward takes down Dimitrov in straight sets at Queen's Club Aegon Championships. British No 3 Ward wobble but manages to keep up with Dimitrov. Dimitrov pulls out 7-5 6-3 of second-round match.&lt;/s&gt;</td>\n",
       "      <td>3.539455</td>\n",
       "      <td>3.776832</td>\n",
       "      <td>0.237378</td>\n",
       "    </tr>\n",
       "    <tr>\n",
       "      <th>5</th>\n",
       "      <td>Summarize the following article. Police have located 12-year-old Selwyn Warren who went missing inside and Adelaide shopping centre on Monday morning. South Australian police confirmed that Selwyn was found'safe and well' after they appealed to the public for assistance. Selwyn had been missing since 9am on Monday when he was last seen by a family member near the Firle Shopping Centre, just north east of Adelaide's CBD. Selwyn Warren has been missing since 9am on Monday when he was last seen...</td>\n",
       "      <td>&lt;pad&gt; Sherdog West Shanghai has released a second search operation for teenager Selwyn Warren.&lt;/s&gt;</td>\n",
       "      <td>&lt;pad&gt; Calls have been sent to police to findSelwyn Warren from where he went missing following a suspected sexual assault.&lt;/s&gt;</td>\n",
       "      <td>4.274823</td>\n",
       "      <td>4.349048</td>\n",
       "      <td>0.074224</td>\n",
       "    </tr>\n",
       "    <tr>\n",
       "      <th>6</th>\n",
       "      <td>Summarize the following article. By. Mail Online Reporter. A Queens cemetery worker is resting in a hospital after falling into a freshly dug grave. The worker at St. John's Cemetery in Middle Village was setting a monument along the grave at about 10: 15 a.m. Friday when he tumbled in backwards. His name has not been released by authorities. The worker at St. John's Cemetery is in stable condition after falling backwards into an open grave. Emergency responders were able to pull him out of ...</td>\n",
       "      <td>&lt;pad&gt; The worker at St. John's Cemetery in Middle Village fell into well-groomed grave. Emergency responders pulled him from the eight-foot-deep grave over a 40-minute period.&lt;/s&gt;</td>\n",
       "      <td>&lt;pad&gt; The worker was setting a monument along the grave at 10: 15 a.m. Friday. He was out of hospital when he became infected. Emergency services are still treating the 54-year-old.&lt;/s&gt;</td>\n",
       "      <td>4.238442</td>\n",
       "      <td>4.298999</td>\n",
       "      <td>0.060556</td>\n",
       "    </tr>\n",
       "    <tr>\n",
       "      <th>7</th>\n",
       "      <td>Summarize the following article. By. John Drayton. Stoke are one of a number of English sides interested in Livorno's Brazilian striker Paulinho, according to the Italian club's president. Aldo Spinelli said the 28-year-old, who scored 15 goals in 35 Serie A matches, is also attracting attention from Abu Dhabi. 'Al Jazira have already spoken with Paulinho, but Stoke City also want him and there are also a couple of other English clubs,' Spinelli told Gazzetta dello Sport. Wanted: Livorno str...</td>\n",
       "      <td>&lt;pad&gt; Portuguese striker gets attention from South African soccer's FC Barcelona. 'Manchester United' want Paulinho, but Bury also interested. Elf family also lure more interest in Filipo Riddick.&lt;/s&gt;</td>\n",
       "      <td>&lt;pad&gt; Chelsea top of the Premier League table with an 11th place finish. Ice-Cat news agency Express Features. Mold Humberside represents Torremolo from Olinense.&lt;/s&gt;</td>\n",
       "      <td>4.053303</td>\n",
       "      <td>4.099115</td>\n",
       "      <td>0.045812</td>\n",
       "    </tr>\n",
       "    <tr>\n",
       "      <th>8</th>\n",
       "      <td>Summarize the following article. A woman and two men have died following a crash involving three vehicles, police said. Officers were called to a road in Mansfield Woodhouse, Nottinghamshire, at about 9.50pm on Friday. The crash on Debdale Lane involving a black BMW 3 Series Convertible, a Honda. motorbike and a Ford Ranger pick-up van. Scene: The crash, which killed three, happened on Debdale Lane yesterday evening. A 38-year-old woman and a 24-year-old man traveling in the black BMW were k...</td>\n",
       "      <td>&lt;pad&gt; Four people have been killed in a motorbike accident in Nottinghamshire. Pictures of the crash were taken from CCTV.&lt;/s&gt;</td>\n",
       "      <td>&lt;pad&gt; Three people dead in crash at road in Mansfield Woodhouse, Nottinghamshire, with three other vehicles. At least three people are in serious but stable condition according to police.&lt;/s&gt;</td>\n",
       "      <td>4.546868</td>\n",
       "      <td>4.580168</td>\n",
       "      <td>0.033300</td>\n",
       "    </tr>\n",
       "    <tr>\n",
       "      <th>9</th>\n",
       "      <td>Summarize the following article. Heather Watson made a first-round exit at the Dongfeng Motor Wuhan Open after losing in straight sets to Sara Errani. The British No 1 only avoided going through qualifying due to Li Na's retirement from tennis and subsequent withdrawal from her home-town tournament but could not make the most of her opportunity. Watson struggled on serve, only managing to get 46 per cent of her first serves in, and was broken six times as she went down 7-5 6-4 to the 11th se...</td>\n",
       "      <td>&lt;pad&gt; Heather Watson lost to Sara Errani as she heads to Big Bash Open at Dongfeng Motor Wuhan. The British No 1 suffered a struggle on serve and drawing six times with just 46 per cent of her first serve in. The 13-time World No 1 won in straight sets and continued to play through.&lt;/s&gt;</td>\n",
       "      <td>&lt;pad&gt; Heather Watson cleared the courts as she lost in straight sets to Swansea's Sara Errani during the Wuhan Open. Watson struggles to get in a sprained serve.&lt;/s&gt;</td>\n",
       "      <td>3.999867</td>\n",
       "      <td>4.030707</td>\n",
       "      <td>0.030840</td>\n",
       "    </tr>\n",
       "    <tr>\n",
       "      <th>10</th>\n",
       "      <td>Summarize the following article. Three people were rescued Saturday after a small plane went down near Beluga Mountain just northwest of Anchorage, Alaska. The plane's emergency locator beacon sent a signal to the Alaska Rescue Coordination Center at about 1:30pm on Saturday. The Alaska Air National Guard's rescue helicopter headed for the coordinates transmitted from the beacon and found the plane 1.2 miles away. The Alaska Air National Guard rescued three people after a small plane went do...</td>\n",
       "      <td>&lt;pad&gt; Three rescued after a plane go down at just 1.2 miles off Alaska's Western coast. The plane's emergency locator beacon sent a signal to the Alaska Rescue Coordination Center at 1:30pm on Saturday. They were taken from Anchorage to Providence Medical Center in Anchorage.&lt;/s&gt;</td>\n",
       "      <td>&lt;pad&gt; The flight to Anchorage, Alaska was almost 30 miles (55km) down. All-weather plane was being canceled after poking itself near shadowed Passquois Mountain.&lt;/s&gt;</td>\n",
       "      <td>4.529250</td>\n",
       "      <td>4.534492</td>\n",
       "      <td>0.005242</td>\n",
       "    </tr>\n",
       "    <tr>\n",
       "      <th>11</th>\n",
       "      <td>Summarize the following article. Southern California animal control officers are hunting for a venomous cobra that bit a dog and then slithered off into the suburban neighborhood of Thousand Oaks. Los Angeles County spokeswoman Lara Arsinian says the dog was bitten by the snake Wednesday in a residential area of Thousand Oaks. The dog's owner managed to take a photo of the snake, which animal control officers identified as an albino monocled cobra. The venomous albino cobra (pictured) was ph...</td>\n",
       "      <td>&lt;pad&gt; A cobra tried to bite a dog in Thousand Oaks.&lt;/s&gt;</td>\n",
       "      <td>&lt;pad&gt; The dog of an Asian dog has taken a photo of the venomous cobra.&lt;/s&gt;</td>\n",
       "      <td>4.477452</td>\n",
       "      <td>4.405203</td>\n",
       "      <td>-0.072249</td>\n",
       "    </tr>\n",
       "    <tr>\n",
       "      <th>12</th>\n",
       "      <td>Summarize the following article. It might not be pretty, but Mario Mandzukic’s latest Instagram post will certainly be a welcome sight for Atletico Madrid fans. The 28-year-old posted a positive update from his hospital bed after successful surgery on a broken nose. Despite initial fears of a lengthy lay-off, the striker expects to return training on Monday. Mario Mandzukic appeared in good spirits after successful surgery on his broken nose. Mario Mandzukic (left) reacts after Atletico Madr...</td>\n",
       "      <td>&lt;pad&gt; Mario Mandzukic will move to Atletico Madrid from Bayern Munich. The 28-year-old Liverpool striker claimed a good side in last week’s 3-0 defeat away at Alkmaar.&lt;/s&gt;</td>\n",
       "      <td>&lt;pad&gt; Atletico Madrid striker Mario Mandzukic posted a positive update from health bed. Mandzukic suffered the injury in Uncle Sam's beat 3-2. The 28-year-old striker will return to training on Monday.&lt;/s&gt;</td>\n",
       "      <td>4.397702</td>\n",
       "      <td>4.321379</td>\n",
       "      <td>-0.076323</td>\n",
       "    </tr>\n",
       "    <tr>\n",
       "      <th>13</th>\n",
       "      <td>Summarize the following article. Cardiff are considering bringing in Glenn Roeder as part of their management team. The club want Leyton Orient boss Russell Slade as manager with Roeder as technical director. Slade is the favourite to take over at the Bluebirds after the club parted company with Ole Gunnar Solskjaer last week. Glenn Roeder is wanted as a technical director at Cardiff. Owner Vincent Tan wants Leyton Orient boss Russell Slade to replace Ole Gunnar Solskjaer. The Orient boss wa...</td>\n",
       "      <td>&lt;pad&gt; Glenn Roeder is wanted as very senior manager at Cardiff. The former Yeovil boss appears to be in hot water after a brief loan spell. Roeder alone is not set for announcement on Saturday. Gumley Thomas is also on the board at Cardiff.&lt;/s&gt;</td>\n",
       "      <td>&lt;pad&gt; Cardiff want line-up offer for Glenn Roeder and Leyton Orient boss Russell Slade. Alan Sheehan has left Orient after the club parted company with Ole Gunnar Solskjaer.&lt;/s&gt;</td>\n",
       "      <td>4.482937</td>\n",
       "      <td>4.399927</td>\n",
       "      <td>-0.083010</td>\n",
       "    </tr>\n",
       "    <tr>\n",
       "      <th>14</th>\n",
       "      <td>Summarize the following article. By. Simon Jones. Hull City have opened talks with Doncaster Rovers regarding highly-rated full-back James Husband. The 20-year-old has been offered a new contract at Doncaster but wants to play in the Premier League. Good Husband: The Doncaster full-back has been offered a new contract but wants to move. Hull are looking to expand their squad after earning a place in the Europa League as FA Cup finalists. The Tigers held further talks with 22-year-old winger ...</td>\n",
       "      <td>&lt;pad&gt; James Husband wants new contract at Doncaster Rovers but wants to play in Premier League. However, the Tigers have yet to discuss move for Tom Ince.&lt;/s&gt;</td>\n",
       "      <td>&lt;pad&gt; James Husband and 32-year-old Tom Ince have moved to new club Hull City. Brannock loan permanent player saw off move to St Mary Magdalene's side. Hull still negotiating contract to wide lock Steve Quintana.&lt;/s&gt;</td>\n",
       "      <td>4.040702</td>\n",
       "      <td>3.954225</td>\n",
       "      <td>-0.086478</td>\n",
       "    </tr>\n",
       "    <tr>\n",
       "      <th>15</th>\n",
       "      <td>Summarize the following article. West Bromwich Albion are in talks with Burkina Faso forward Prejuce Nakoulma. The pacy 27-year-old is available on a free and Albion hope he will qualify for a work permit as he has played in all Burkina internationals over the past two years. Nakoulma has been playing for Poland's Gornik Zabrze and can play as a winger or striker. Welcome addition? West Brom are in talks to sign Burkino Faso forward Prejuce Nakoulma on a free transfer. Nakoulma scored nine g...</td>\n",
       "      <td>&lt;pad&gt; Prejuce Nakoulma will join West Bromwich Albion on a free transfer. The defender has been on loan out of Poland. The forward has played in Burkina Faso's run to the 2018 African Cup of Nations.&lt;/s&gt;</td>\n",
       "      <td>&lt;pad&gt; West Brom open talks to sign Burkina Faso forward Prejuce Nakoulma. Nakoulma has played on a free transfer for Peston Saints. Nakoulma played for Burkina Faso last season and has played for the Czech Republic.&lt;/s&gt;</td>\n",
       "      <td>4.191156</td>\n",
       "      <td>4.103206</td>\n",
       "      <td>-0.087950</td>\n",
       "    </tr>\n",
       "    <tr>\n",
       "      <th>16</th>\n",
       "      <td>Summarize the following article. An elderly Melbourne workman is lucky to be alive after spending half an hour dangling upside down from a three-storey building. It's believed the 84-year-old was doing some maintenance work when he locked himself out and decided to climb over to another balcony, Seven News reported. But instead, he tripped and jammed his foot on the side railing of the balcony - which saved him from a 12 metre fall. Police officers held onto the man's legs until firefighters...</td>\n",
       "      <td>&lt;pad&gt; 84-year-old Melbourne man unable to climb out of a building. But traffic lights ran out at 4.50pm on Wednesday. He was taken to hospital in a stable condition, suffering a sore ankle with a sore ankle.&lt;/s&gt;</td>\n",
       "      <td>&lt;pad&gt; Melbourne residents have saved a pension climber from a 12metre fall.&lt;/s&gt;</td>\n",
       "      <td>3.816530</td>\n",
       "      <td>3.671466</td>\n",
       "      <td>-0.145064</td>\n",
       "    </tr>\n",
       "    <tr>\n",
       "      <th>17</th>\n",
       "      <td>Summarize the following article. Life asked 'Who wants to go for walkies?' and one pooch couldn't say no. In a video posted to YouTube, an injured terrier in a cast hops through the door to her house and walks around on her hind legs before popping out again. This pooch's owner says she broke both her front legs after an ill-advised leap off a six-foot-high deck but the daredevil dog refused to take it lying down. Dog gone: A pup learned how to walk like a human on her two hind legs after be...</td>\n",
       "      <td>&lt;pad&gt; A terrier in a cast video went to YouTube to watch something quite unusual. She got it a lot of laughs after being hospitalized and scratched in a slump in a fall. The video was posted to YouTube and TWIP has been aired all along.&lt;/s&gt;</td>\n",
       "      <td>&lt;pad&gt; A dog in a cast has taken 4 different steps after learning how to walk. He played with several indoor pets.&lt;/s&gt;</td>\n",
       "      <td>2.399409</td>\n",
       "      <td>2.246503</td>\n",
       "      <td>-0.152906</td>\n",
       "    </tr>\n",
       "    <tr>\n",
       "      <th>18</th>\n",
       "      <td>Summarize the following article. Dnipro have rejected West Ham's bid for Yevhen Konoplyanka. The Ukraine winger has a £12million buy-out clause so the rebuff was expected. Manager Sam Allardyce is keen to bring in a wide player with Ashley Young and Wilfried Zaha at Manchester United among names he is considering. VIDEO Scroll down to watch PITCH FIGHT Ravel Morrison scraps with Wilfried Zaha. Wanted: Dnipro have rejected West Ham's move for Yevhen Konoplyanka this week. Kop target: Ukraine ...</td>\n",
       "      <td>&lt;pad&gt; Dnipro rejected West Ham's bid for Yevhen Konoplyanka this week on suspicion of a buy-out clause. Is keen on Man United's Ashley Young and Wilfried Zaha at Man United. Sam Allardyce keen to bring in a wide player with Ashley Young among men his side are interested in.&lt;/s&gt;</td>\n",
       "      <td>&lt;pad&gt; Yanyarsk side reject bid for starcy winger. Nadal looks keen on Ashley Young and Wilfried Zaha. Allardyce wants Tottenham star Cyrus to join side.&lt;/s&gt;</td>\n",
       "      <td>3.865188</td>\n",
       "      <td>3.617309</td>\n",
       "      <td>-0.247879</td>\n",
       "    </tr>\n",
       "    <tr>\n",
       "      <th>19</th>\n",
       "      <td>Summarize the following article. Baa baa Boston Terrier? This cute mutt sounds just like goat when he gets excited. And his talents don’t just stop there. He does a pretty mean dolphin impression, too. Bruce the Boston Terrier is the Rory Bremner of the canine world. His excitement causes him to make silly noises. The one-and-a-half year old dog can’t contain his delight when he sees other animals on the road. Great impressionist: The dog's owner, Angela, says that her one-year-old dog 'just...</td>\n",
       "      <td>&lt;pad&gt; Not only does the adorable dog both laugh and Haase some fun, he also demonstrates his love for water by whistling, saying 'That is how important it is' every time he is told to go.&lt;/s&gt;</td>\n",
       "      <td>&lt;pad&gt; A baby, yours for you. Bruce the Boston Terrier has proved the only animal he has ever put in play with.&lt;/s&gt;</td>\n",
       "      <td>2.251233</td>\n",
       "      <td>1.844014</td>\n",
       "      <td>-0.407219</td>\n",
       "    </tr>\n",
       "  </tbody>\n",
       "</table>\n",
       "</div>"
      ],
      "text/plain": [
       "                                                                                                                                                                                                                                                                                                                                                                                                                                                                                                                  query  \\\n",
       "0   Summarize the following article. Maria Sharapova is used to making back page headlines but she doesn't always see someone reading an article about her. The World number four saw a passenger reading about her and tweeted a picture saying how she can see the piece. The passenger thought he was just casually reading about a tennis star oblivious to the fact that she was in fact right behind him. Maria Sharapova posts a picture of a passenger reading an article about her on a flight. The tennis ...   \n",
       "1   Summarize the following article. By. Jeff Powell. Follow @@jeffpowell_Mail. As five-division world champion Floyd Mayweather and Marcos Maidana prepare to go head-to-head in Las Vegas, Sportsmail's boxing columnist Jeff Powell gives his verdict from the MGM Grand... Mayweather won their fight in May by unanimous decision but the former WBA welterweight champion Maidana is back at the MGM Grand to reclaim his title. 'I think we'll see Mayweather mobile and very difficult to hit. The issue is ...   \n",
       "2   Summarize the following article. By. Ap Reporter. A Swiss football club says it will investigate reports that some of its fans urinated in a water bottle that a rival goalkeeper then drank from. Reto Felder, a goalkeeper who plays for Muri in the Swiss fourth division, claims he first though his drink was warmed by the sun. He called the prank 'crude and disgraceful', according to the Blick daily newspaper. Fans in the crowd - reportedly around 500 strong - persuaded a ball boy to pass them ...   \n",
       "3   Summarize the following article. Charles James 'flipped out' while doing drugs with his 14-year-old daughter in hotel room. A father 'flipped out' while allegedly doing drugs with his 14-year-old daughter in hotel room. Charles James was arrested on Monday after an employee at a Baytown, Texas, hotel heard screams for help coming from a room. Police were called to Palace Inn Hotel and found James in the room with his teenage daughter. Detectives said James, 36, appeared to be under the influ...   \n",
       "4   Summarize the following article. James Ward slipped to a straight-sets second-round defeat to number four seed Grigor Dimitrov at the Queen's Club Aegon Championships. British No. 3 Ward saw off Slovenian Blaz Rola on Monday, but was unable to produce what would have been a big upset against Bulgarian Dimitrov. VIDEO Scroll down to watch Tomas Berdych answer quickfire question at Queen's. A step too far: James Ward was beaten in straight sets by fourth seed Grigor Dimitrov. Soaking up the su...   \n",
       "5   Summarize the following article. Police have located 12-year-old Selwyn Warren who went missing inside and Adelaide shopping centre on Monday morning. South Australian police confirmed that Selwyn was found'safe and well' after they appealed to the public for assistance. Selwyn had been missing since 9am on Monday when he was last seen by a family member near the Firle Shopping Centre, just north east of Adelaide's CBD. Selwyn Warren has been missing since 9am on Monday when he was last seen...   \n",
       "6   Summarize the following article. By. Mail Online Reporter. A Queens cemetery worker is resting in a hospital after falling into a freshly dug grave. The worker at St. John's Cemetery in Middle Village was setting a monument along the grave at about 10: 15 a.m. Friday when he tumbled in backwards. His name has not been released by authorities. The worker at St. John's Cemetery is in stable condition after falling backwards into an open grave. Emergency responders were able to pull him out of ...   \n",
       "7   Summarize the following article. By. John Drayton. Stoke are one of a number of English sides interested in Livorno's Brazilian striker Paulinho, according to the Italian club's president. Aldo Spinelli said the 28-year-old, who scored 15 goals in 35 Serie A matches, is also attracting attention from Abu Dhabi. 'Al Jazira have already spoken with Paulinho, but Stoke City also want him and there are also a couple of other English clubs,' Spinelli told Gazzetta dello Sport. Wanted: Livorno str...   \n",
       "8   Summarize the following article. A woman and two men have died following a crash involving three vehicles, police said. Officers were called to a road in Mansfield Woodhouse, Nottinghamshire, at about 9.50pm on Friday. The crash on Debdale Lane involving a black BMW 3 Series Convertible, a Honda. motorbike and a Ford Ranger pick-up van. Scene: The crash, which killed three, happened on Debdale Lane yesterday evening. A 38-year-old woman and a 24-year-old man traveling in the black BMW were k...   \n",
       "9   Summarize the following article. Heather Watson made a first-round exit at the Dongfeng Motor Wuhan Open after losing in straight sets to Sara Errani. The British No 1 only avoided going through qualifying due to Li Na's retirement from tennis and subsequent withdrawal from her home-town tournament but could not make the most of her opportunity. Watson struggled on serve, only managing to get 46 per cent of her first serves in, and was broken six times as she went down 7-5 6-4 to the 11th se...   \n",
       "10  Summarize the following article. Three people were rescued Saturday after a small plane went down near Beluga Mountain just northwest of Anchorage, Alaska. The plane's emergency locator beacon sent a signal to the Alaska Rescue Coordination Center at about 1:30pm on Saturday. The Alaska Air National Guard's rescue helicopter headed for the coordinates transmitted from the beacon and found the plane 1.2 miles away. The Alaska Air National Guard rescued three people after a small plane went do...   \n",
       "11  Summarize the following article. Southern California animal control officers are hunting for a venomous cobra that bit a dog and then slithered off into the suburban neighborhood of Thousand Oaks. Los Angeles County spokeswoman Lara Arsinian says the dog was bitten by the snake Wednesday in a residential area of Thousand Oaks. The dog's owner managed to take a photo of the snake, which animal control officers identified as an albino monocled cobra. The venomous albino cobra (pictured) was ph...   \n",
       "12  Summarize the following article. It might not be pretty, but Mario Mandzukic’s latest Instagram post will certainly be a welcome sight for Atletico Madrid fans. The 28-year-old posted a positive update from his hospital bed after successful surgery on a broken nose. Despite initial fears of a lengthy lay-off, the striker expects to return training on Monday. Mario Mandzukic appeared in good spirits after successful surgery on his broken nose. Mario Mandzukic (left) reacts after Atletico Madr...   \n",
       "13  Summarize the following article. Cardiff are considering bringing in Glenn Roeder as part of their management team. The club want Leyton Orient boss Russell Slade as manager with Roeder as technical director. Slade is the favourite to take over at the Bluebirds after the club parted company with Ole Gunnar Solskjaer last week. Glenn Roeder is wanted as a technical director at Cardiff. Owner Vincent Tan wants Leyton Orient boss Russell Slade to replace Ole Gunnar Solskjaer. The Orient boss wa...   \n",
       "14  Summarize the following article. By. Simon Jones. Hull City have opened talks with Doncaster Rovers regarding highly-rated full-back James Husband. The 20-year-old has been offered a new contract at Doncaster but wants to play in the Premier League. Good Husband: The Doncaster full-back has been offered a new contract but wants to move. Hull are looking to expand their squad after earning a place in the Europa League as FA Cup finalists. The Tigers held further talks with 22-year-old winger ...   \n",
       "15  Summarize the following article. West Bromwich Albion are in talks with Burkina Faso forward Prejuce Nakoulma. The pacy 27-year-old is available on a free and Albion hope he will qualify for a work permit as he has played in all Burkina internationals over the past two years. Nakoulma has been playing for Poland's Gornik Zabrze and can play as a winger or striker. Welcome addition? West Brom are in talks to sign Burkino Faso forward Prejuce Nakoulma on a free transfer. Nakoulma scored nine g...   \n",
       "16  Summarize the following article. An elderly Melbourne workman is lucky to be alive after spending half an hour dangling upside down from a three-storey building. It's believed the 84-year-old was doing some maintenance work when he locked himself out and decided to climb over to another balcony, Seven News reported. But instead, he tripped and jammed his foot on the side railing of the balcony - which saved him from a 12 metre fall. Police officers held onto the man's legs until firefighters...   \n",
       "17  Summarize the following article. Life asked 'Who wants to go for walkies?' and one pooch couldn't say no. In a video posted to YouTube, an injured terrier in a cast hops through the door to her house and walks around on her hind legs before popping out again. This pooch's owner says she broke both her front legs after an ill-advised leap off a six-foot-high deck but the daredevil dog refused to take it lying down. Dog gone: A pup learned how to walk like a human on her two hind legs after be...   \n",
       "18  Summarize the following article. Dnipro have rejected West Ham's bid for Yevhen Konoplyanka. The Ukraine winger has a £12million buy-out clause so the rebuff was expected. Manager Sam Allardyce is keen to bring in a wide player with Ashley Young and Wilfried Zaha at Manchester United among names he is considering. VIDEO Scroll down to watch PITCH FIGHT Ravel Morrison scraps with Wilfried Zaha. Wanted: Dnipro have rejected West Ham's move for Yevhen Konoplyanka this week. Kop target: Ukraine ...   \n",
       "19  Summarize the following article. Baa baa Boston Terrier? This cute mutt sounds just like goat when he gets excited. And his talents don’t just stop there. He does a pretty mean dolphin impression, too. Bruce the Boston Terrier is the Rory Bremner of the canine world. His excitement causes him to make silly noises. The one-and-a-half year old dog can’t contain his delight when he sees other animals on the road. Great impressionist: The dog's owner, Angela, says that her one-year-old dog 'just...   \n",
       "\n",
       "                                                                                                                                                                                                                                                                                    response_before  \\\n",
       "0                                                                                                                                                 <pad> Top-ranked Maria Sharapova got some work on her silliness. She features in pictures and tweets about her best times in nearly 15 years.</s>   \n",
       "1                                                                  <pad> Floyd Mayweather, Marcos Maidana receive unanimous decision at MGM Grand. The five-division champion Wire cut the need for an extra bout. Serbia-born fighter remains in-form but inevitably will wait for Mayweather.</s>   \n",
       "2                                                                                                                                                                                                               <pad> Baden president promises to investigate offence of fans-pirate custodian.</s>   \n",
       "3          <pad> Charles James was arrested on Monday after room on Baytown, Texas hotel heard screams for help. He appeared to be under the influence of drugs but otherwise isn't coherent. Family's father 'flipped out' poses 'Changing head' at hospital following well-taken drug search.</s>   \n",
       "4                                                                                                                           <pad> James Ward falls to job-scary second-wicket defeat by first seed Dimitrov. British No. 3 missed out against Bulgarian Dimitrov in first match at first round.</s>   \n",
       "5                                                                                                                                                                                                <pad> Sherdog West Shanghai has released a second search operation for teenager Selwyn Warren.</s>   \n",
       "6                                                                                                               <pad> The worker at St. John's Cemetery in Middle Village fell into well-groomed grave. Emergency responders pulled him from the eight-foot-deep grave over a 40-minute period.</s>   \n",
       "7                                                                                          <pad> Portuguese striker gets attention from South African soccer's FC Barcelona. 'Manchester United' want Paulinho, but Bury also interested. Elf family also lure more interest in Filipo Riddick.</s>   \n",
       "8                                                                                                                                                                    <pad> Four people have been killed in a motorbike accident in Nottinghamshire. Pictures of the crash were taken from CCTV.</s>   \n",
       "9   <pad> Heather Watson lost to Sara Errani as she heads to Big Bash Open at Dongfeng Motor Wuhan. The British No 1 suffered a struggle on serve and drawing six times with just 46 per cent of her first serve in. The 13-time World No 1 won in straight sets and continued to play through.</s>   \n",
       "10         <pad> Three rescued after a plane go down at just 1.2 miles off Alaska's Western coast. The plane's emergency locator beacon sent a signal to the Alaska Rescue Coordination Center at 1:30pm on Saturday. They were taken from Anchorage to Providence Medical Center in Anchorage.</s>   \n",
       "11                                                                                                                                                                                                                                          <pad> A cobra tried to bite a dog in Thousand Oaks.</s>   \n",
       "12                                                                                                                      <pad> Mario Mandzukic will move to Atletico Madrid from Bayern Munich. The 28-year-old Liverpool striker claimed a good side in last week’s 3-0 defeat away at Alkmaar.</s>   \n",
       "13                                             <pad> Glenn Roeder is wanted as very senior manager at Cardiff. The former Yeovil boss appears to be in hot water after a brief loan spell. Roeder alone is not set for announcement on Saturday. Gumley Thomas is also on the board at Cardiff.</s>   \n",
       "14                                                                                                                                   <pad> James Husband wants new contract at Doncaster Rovers but wants to play in Premier League. However, the Tigers have yet to discuss move for Tom Ince.</s>   \n",
       "15                                                                                      <pad> Prejuce Nakoulma will join West Bromwich Albion on a free transfer. The defender has been on loan out of Poland. The forward has played in Burkina Faso's run to the 2018 African Cup of Nations.</s>   \n",
       "16                                                                              <pad> 84-year-old Melbourne man unable to climb out of a building. But traffic lights ran out at 4.50pm on Wednesday. He was taken to hospital in a stable condition, suffering a sore ankle with a sore ankle.</s>   \n",
       "17                                                 <pad> A terrier in a cast video went to YouTube to watch something quite unusual. She got it a lot of laughs after being hospitalized and scratched in a slump in a fall. The video was posted to YouTube and TWIP has been aired all along.</s>   \n",
       "18           <pad> Dnipro rejected West Ham's bid for Yevhen Konoplyanka this week on suspicion of a buy-out clause. Is keen on Man United's Ashley Young and Wilfried Zaha at Man United. Sam Allardyce keen to bring in a wide player with Ashley Young among men his side are interested in.</s>   \n",
       "19                                                                                                  <pad> Not only does the adorable dog both laugh and Haase some fun, he also demonstrates his love for water by whistling, saying 'That is how important it is' every time he is told to go.</s>   \n",
       "\n",
       "                                                                                                                                                                                                                                                                                                                                                                                                                                                                       response_after  \\\n",
       "0   <pad> Maria Sharapova knew a passenger was reading an article about her but she was just behind her. Sharapova is one of the world's best tennis stars and after falling to defeat at Dublin 1992 Martin Wuertmuller saw the story online. The blogger had stopped reading when a passenger asked her about the information. On other flights, she saw an article about her while outs-the-way in Shanghai. Sharapova has made headlines after even struggling at her weight.</s>   \n",
       "1                                                                                                                                                                                                                                                                       <pad> Floyd Mayweather to contest Marcos Maidana in Las Vegas. Mayweather’s win over Maidana is confirmed by a unanimous decision at MGM Grand. Maidana is undefeated at the top of the takeover defence.</s>   \n",
       "2                                                                                                                   <pad> Baogen goalkeeper says fans urinated in a bottle during a match. German goalkeeper says he tried to pass it to a ball boy. Football club says it will investigate. Fans sang in a garden hose, uncertain affect. It is thought like-for-like wine, marbled pork, ham, pastry. Neither player was able to consume alcohol to be legally under Swiss law.</s>   \n",
       "3                                                                                                                                                                                 <pad> Charles James has been arrested 'drowsily' on Monday and charged with child endangerment with child endangerment. James had come down with an seizure in the hotel while the girl asleep. Police cleared him of suspicion of child endangerment and today he was released without charge.</s>   \n",
       "4                                                                                                                                                                                                                                                                     <pad> James Ward takes down Dimitrov in straight sets at Queen's Club Aegon Championships. British No 3 Ward wobble but manages to keep up with Dimitrov. Dimitrov pulls out 7-5 6-3 of second-round match.</s>   \n",
       "5                                                                                                                                                                                                                                                                                                                                                      <pad> Calls have been sent to police to findSelwyn Warren from where he went missing following a suspected sexual assault.</s>   \n",
       "6                                                                                                                                                                                                                                                                                           <pad> The worker was setting a monument along the grave at 10: 15 a.m. Friday. He was out of hospital when he became infected. Emergency services are still treating the 54-year-old.</s>   \n",
       "7                                                                                                                                                                                                                                                                                                              <pad> Chelsea top of the Premier League table with an 11th place finish. Ice-Cat news agency Express Features. Mold Humberside represents Torremolo from Olinense.</s>   \n",
       "8                                                                                                                                                                                                                                                                                     <pad> Three people dead in crash at road in Mansfield Woodhouse, Nottinghamshire, with three other vehicles. At least three people are in serious but stable condition according to police.</s>   \n",
       "9                                                                                                                                                                                                                                                                                                               <pad> Heather Watson cleared the courts as she lost in straight sets to Swansea's Sara Errani during the Wuhan Open. Watson struggles to get in a sprained serve.</s>   \n",
       "10                                                                                                                                                                                                                                                                                                              <pad> The flight to Anchorage, Alaska was almost 30 miles (55km) down. All-weather plane was being canceled after poking itself near shadowed Passquois Mountain.</s>   \n",
       "11                                                                                                                                                                                                                                                                                                                                                                                                         <pad> The dog of an Asian dog has taken a photo of the venomous cobra.</s>   \n",
       "12                                                                                                                                                                                                                                                                      <pad> Atletico Madrid striker Mario Mandzukic posted a positive update from health bed. Mandzukic suffered the injury in Uncle Sam's beat 3-2. The 28-year-old striker will return to training on Monday.</s>   \n",
       "13                                                                                                                                                                                                                                                                                                  <pad> Cardiff want line-up offer for Glenn Roeder and Leyton Orient boss Russell Slade. Alan Sheehan has left Orient after the club parted company with Ole Gunnar Solskjaer.</s>   \n",
       "14                                                                                                                                                                                                                                                           <pad> James Husband and 32-year-old Tom Ince have moved to new club Hull City. Brannock loan permanent player saw off move to St Mary Magdalene's side. Hull still negotiating contract to wide lock Steve Quintana.</s>   \n",
       "15                                                                                                                                                                                                                                                        <pad> West Brom open talks to sign Burkina Faso forward Prejuce Nakoulma. Nakoulma has played on a free transfer for Peston Saints. Nakoulma played for Burkina Faso last season and has played for the Czech Republic.</s>   \n",
       "16                                                                                                                                                                                                                                                                                                                                                                                                    <pad> Melbourne residents have saved a pension climber from a 12metre fall.</s>   \n",
       "17                                                                                                                                                                                                                                                                                                                                                              <pad> A dog in a cast has taken 4 different steps after learning how to walk. He played with several indoor pets.</s>   \n",
       "18                                                                                                                                                                                                                                                                                                                       <pad> Yanyarsk side reject bid for starcy winger. Nadal looks keen on Ashley Young and Wilfried Zaha. Allardyce wants Tottenham star Cyrus to join side.</s>   \n",
       "19                                                                                                                                                                                                                                                                                                                                                                 <pad> A baby, yours for you. Bruce the Boston Terrier has proved the only animal he has ever put in play with.</s>   \n",
       "\n",
       "    reward_before  reward_after  reward_diff  \n",
       "0        2.655499      3.426647     0.771148  \n",
       "1        2.664360      3.288665     0.624305  \n",
       "2        2.435017      2.844114     0.409098  \n",
       "3        2.830459      3.117796     0.287337  \n",
       "4        3.539455      3.776832     0.237378  \n",
       "5        4.274823      4.349048     0.074224  \n",
       "6        4.238442      4.298999     0.060556  \n",
       "7        4.053303      4.099115     0.045812  \n",
       "8        4.546868      4.580168     0.033300  \n",
       "9        3.999867      4.030707     0.030840  \n",
       "10       4.529250      4.534492     0.005242  \n",
       "11       4.477452      4.405203    -0.072249  \n",
       "12       4.397702      4.321379    -0.076323  \n",
       "13       4.482937      4.399927    -0.083010  \n",
       "14       4.040702      3.954225    -0.086478  \n",
       "15       4.191156      4.103206    -0.087950  \n",
       "16       3.816530      3.671466    -0.145064  \n",
       "17       2.399409      2.246503    -0.152906  \n",
       "18       3.865188      3.617309    -0.247879  \n",
       "19       2.251233      1.844014    -0.407219  "
      ]
     },
     "execution_count": 52,
     "metadata": {},
     "output_type": "execute_result"
    }
   ],
   "source": [
    "pd.set_option('display.max_colwidth', 500)\n",
    "df_compare_results = pd.DataFrame(compare_results)\n",
    "df_compare_results[\"reward_diff\"] = df_compare_results['reward_after'] - df_compare_results['reward_before']\n",
    "df_compare_results_sorted = df_compare_results.sort_values(by=['reward_diff'], ascending=False).reset_index(drop=True)\n",
    "df_compare_results_sorted"
   ]
  },
  {
   "cell_type": "markdown",
   "id": "e7fb2477-f719-48de-b169-0607d355a8f6",
   "metadata": {},
   "source": [
    "Looking at the reward mean/median of the generated sequences you can observe some difference. Note that news articles should be not biased or contain hate speech, so it's very likely that more computational power should be used to finetune this model even more. We expect the articles to be written in a neutral tone, thus requiring a more powerful model to spot the (luckily) limited cases where the text is less neutral.\n",
    "\n",
    "Trying to perform the same detoxification on other datasets (containing, for example, conversations, colloquial exchanges, ...) could bring more striking results."
   ]
  },
  {
   "cell_type": "markdown",
   "id": "03f5853c",
   "metadata": {},
   "source": [
    "### Acknowledgements\n",
    "\n",
    "Thanks to DeepLearning.AI for the courses that inspired this notebook."
   ]
  },
  {
   "cell_type": "code",
   "execution_count": null,
   "id": "4979557a",
   "metadata": {},
   "outputs": [],
   "source": []
  }
 ],
 "metadata": {
  "availableInstances": [
   {
    "_defaultOrder": 0,
    "_isFastLaunch": true,
    "category": "General purpose",
    "gpuNum": 0,
    "hideHardwareSpecs": false,
    "memoryGiB": 4,
    "name": "ml.t3.medium",
    "vcpuNum": 2
   },
   {
    "_defaultOrder": 1,
    "_isFastLaunch": false,
    "category": "General purpose",
    "gpuNum": 0,
    "hideHardwareSpecs": false,
    "memoryGiB": 8,
    "name": "ml.t3.large",
    "vcpuNum": 2
   },
   {
    "_defaultOrder": 2,
    "_isFastLaunch": false,
    "category": "General purpose",
    "gpuNum": 0,
    "hideHardwareSpecs": false,
    "memoryGiB": 16,
    "name": "ml.t3.xlarge",
    "vcpuNum": 4
   },
   {
    "_defaultOrder": 3,
    "_isFastLaunch": false,
    "category": "General purpose",
    "gpuNum": 0,
    "hideHardwareSpecs": false,
    "memoryGiB": 32,
    "name": "ml.t3.2xlarge",
    "vcpuNum": 8
   },
   {
    "_defaultOrder": 4,
    "_isFastLaunch": true,
    "category": "General purpose",
    "gpuNum": 0,
    "hideHardwareSpecs": false,
    "memoryGiB": 8,
    "name": "ml.m5.large",
    "vcpuNum": 2
   },
   {
    "_defaultOrder": 5,
    "_isFastLaunch": false,
    "category": "General purpose",
    "gpuNum": 0,
    "hideHardwareSpecs": false,
    "memoryGiB": 16,
    "name": "ml.m5.xlarge",
    "vcpuNum": 4
   },
   {
    "_defaultOrder": 6,
    "_isFastLaunch": false,
    "category": "General purpose",
    "gpuNum": 0,
    "hideHardwareSpecs": false,
    "memoryGiB": 32,
    "name": "ml.m5.2xlarge",
    "vcpuNum": 8
   },
   {
    "_defaultOrder": 7,
    "_isFastLaunch": false,
    "category": "General purpose",
    "gpuNum": 0,
    "hideHardwareSpecs": false,
    "memoryGiB": 64,
    "name": "ml.m5.4xlarge",
    "vcpuNum": 16
   },
   {
    "_defaultOrder": 8,
    "_isFastLaunch": false,
    "category": "General purpose",
    "gpuNum": 0,
    "hideHardwareSpecs": false,
    "memoryGiB": 128,
    "name": "ml.m5.8xlarge",
    "vcpuNum": 32
   },
   {
    "_defaultOrder": 9,
    "_isFastLaunch": false,
    "category": "General purpose",
    "gpuNum": 0,
    "hideHardwareSpecs": false,
    "memoryGiB": 192,
    "name": "ml.m5.12xlarge",
    "vcpuNum": 48
   },
   {
    "_defaultOrder": 10,
    "_isFastLaunch": false,
    "category": "General purpose",
    "gpuNum": 0,
    "hideHardwareSpecs": false,
    "memoryGiB": 256,
    "name": "ml.m5.16xlarge",
    "vcpuNum": 64
   },
   {
    "_defaultOrder": 11,
    "_isFastLaunch": false,
    "category": "General purpose",
    "gpuNum": 0,
    "hideHardwareSpecs": false,
    "memoryGiB": 384,
    "name": "ml.m5.24xlarge",
    "vcpuNum": 96
   },
   {
    "_defaultOrder": 12,
    "_isFastLaunch": false,
    "category": "General purpose",
    "gpuNum": 0,
    "hideHardwareSpecs": false,
    "memoryGiB": 8,
    "name": "ml.m5d.large",
    "vcpuNum": 2
   },
   {
    "_defaultOrder": 13,
    "_isFastLaunch": false,
    "category": "General purpose",
    "gpuNum": 0,
    "hideHardwareSpecs": false,
    "memoryGiB": 16,
    "name": "ml.m5d.xlarge",
    "vcpuNum": 4
   },
   {
    "_defaultOrder": 14,
    "_isFastLaunch": false,
    "category": "General purpose",
    "gpuNum": 0,
    "hideHardwareSpecs": false,
    "memoryGiB": 32,
    "name": "ml.m5d.2xlarge",
    "vcpuNum": 8
   },
   {
    "_defaultOrder": 15,
    "_isFastLaunch": false,
    "category": "General purpose",
    "gpuNum": 0,
    "hideHardwareSpecs": false,
    "memoryGiB": 64,
    "name": "ml.m5d.4xlarge",
    "vcpuNum": 16
   },
   {
    "_defaultOrder": 16,
    "_isFastLaunch": false,
    "category": "General purpose",
    "gpuNum": 0,
    "hideHardwareSpecs": false,
    "memoryGiB": 128,
    "name": "ml.m5d.8xlarge",
    "vcpuNum": 32
   },
   {
    "_defaultOrder": 17,
    "_isFastLaunch": false,
    "category": "General purpose",
    "gpuNum": 0,
    "hideHardwareSpecs": false,
    "memoryGiB": 192,
    "name": "ml.m5d.12xlarge",
    "vcpuNum": 48
   },
   {
    "_defaultOrder": 18,
    "_isFastLaunch": false,
    "category": "General purpose",
    "gpuNum": 0,
    "hideHardwareSpecs": false,
    "memoryGiB": 256,
    "name": "ml.m5d.16xlarge",
    "vcpuNum": 64
   },
   {
    "_defaultOrder": 19,
    "_isFastLaunch": false,
    "category": "General purpose",
    "gpuNum": 0,
    "hideHardwareSpecs": false,
    "memoryGiB": 384,
    "name": "ml.m5d.24xlarge",
    "vcpuNum": 96
   },
   {
    "_defaultOrder": 20,
    "_isFastLaunch": false,
    "category": "General purpose",
    "gpuNum": 0,
    "hideHardwareSpecs": true,
    "memoryGiB": 0,
    "name": "ml.geospatial.interactive",
    "supportedImageNames": [
     "sagemaker-geospatial-v1-0"
    ],
    "vcpuNum": 0
   },
   {
    "_defaultOrder": 21,
    "_isFastLaunch": true,
    "category": "Compute optimized",
    "gpuNum": 0,
    "hideHardwareSpecs": false,
    "memoryGiB": 4,
    "name": "ml.c5.large",
    "vcpuNum": 2
   },
   {
    "_defaultOrder": 22,
    "_isFastLaunch": false,
    "category": "Compute optimized",
    "gpuNum": 0,
    "hideHardwareSpecs": false,
    "memoryGiB": 8,
    "name": "ml.c5.xlarge",
    "vcpuNum": 4
   },
   {
    "_defaultOrder": 23,
    "_isFastLaunch": false,
    "category": "Compute optimized",
    "gpuNum": 0,
    "hideHardwareSpecs": false,
    "memoryGiB": 16,
    "name": "ml.c5.2xlarge",
    "vcpuNum": 8
   },
   {
    "_defaultOrder": 24,
    "_isFastLaunch": false,
    "category": "Compute optimized",
    "gpuNum": 0,
    "hideHardwareSpecs": false,
    "memoryGiB": 32,
    "name": "ml.c5.4xlarge",
    "vcpuNum": 16
   },
   {
    "_defaultOrder": 25,
    "_isFastLaunch": false,
    "category": "Compute optimized",
    "gpuNum": 0,
    "hideHardwareSpecs": false,
    "memoryGiB": 72,
    "name": "ml.c5.9xlarge",
    "vcpuNum": 36
   },
   {
    "_defaultOrder": 26,
    "_isFastLaunch": false,
    "category": "Compute optimized",
    "gpuNum": 0,
    "hideHardwareSpecs": false,
    "memoryGiB": 96,
    "name": "ml.c5.12xlarge",
    "vcpuNum": 48
   },
   {
    "_defaultOrder": 27,
    "_isFastLaunch": false,
    "category": "Compute optimized",
    "gpuNum": 0,
    "hideHardwareSpecs": false,
    "memoryGiB": 144,
    "name": "ml.c5.18xlarge",
    "vcpuNum": 72
   },
   {
    "_defaultOrder": 28,
    "_isFastLaunch": false,
    "category": "Compute optimized",
    "gpuNum": 0,
    "hideHardwareSpecs": false,
    "memoryGiB": 192,
    "name": "ml.c5.24xlarge",
    "vcpuNum": 96
   },
   {
    "_defaultOrder": 29,
    "_isFastLaunch": true,
    "category": "Accelerated computing",
    "gpuNum": 1,
    "hideHardwareSpecs": false,
    "memoryGiB": 16,
    "name": "ml.g4dn.xlarge",
    "vcpuNum": 4
   },
   {
    "_defaultOrder": 30,
    "_isFastLaunch": false,
    "category": "Accelerated computing",
    "gpuNum": 1,
    "hideHardwareSpecs": false,
    "memoryGiB": 32,
    "name": "ml.g4dn.2xlarge",
    "vcpuNum": 8
   },
   {
    "_defaultOrder": 31,
    "_isFastLaunch": false,
    "category": "Accelerated computing",
    "gpuNum": 1,
    "hideHardwareSpecs": false,
    "memoryGiB": 64,
    "name": "ml.g4dn.4xlarge",
    "vcpuNum": 16
   },
   {
    "_defaultOrder": 32,
    "_isFastLaunch": false,
    "category": "Accelerated computing",
    "gpuNum": 1,
    "hideHardwareSpecs": false,
    "memoryGiB": 128,
    "name": "ml.g4dn.8xlarge",
    "vcpuNum": 32
   },
   {
    "_defaultOrder": 33,
    "_isFastLaunch": false,
    "category": "Accelerated computing",
    "gpuNum": 4,
    "hideHardwareSpecs": false,
    "memoryGiB": 192,
    "name": "ml.g4dn.12xlarge",
    "vcpuNum": 48
   },
   {
    "_defaultOrder": 34,
    "_isFastLaunch": false,
    "category": "Accelerated computing",
    "gpuNum": 1,
    "hideHardwareSpecs": false,
    "memoryGiB": 256,
    "name": "ml.g4dn.16xlarge",
    "vcpuNum": 64
   },
   {
    "_defaultOrder": 35,
    "_isFastLaunch": false,
    "category": "Accelerated computing",
    "gpuNum": 1,
    "hideHardwareSpecs": false,
    "memoryGiB": 61,
    "name": "ml.p3.2xlarge",
    "vcpuNum": 8
   },
   {
    "_defaultOrder": 36,
    "_isFastLaunch": false,
    "category": "Accelerated computing",
    "gpuNum": 4,
    "hideHardwareSpecs": false,
    "memoryGiB": 244,
    "name": "ml.p3.8xlarge",
    "vcpuNum": 32
   },
   {
    "_defaultOrder": 37,
    "_isFastLaunch": false,
    "category": "Accelerated computing",
    "gpuNum": 8,
    "hideHardwareSpecs": false,
    "memoryGiB": 488,
    "name": "ml.p3.16xlarge",
    "vcpuNum": 64
   },
   {
    "_defaultOrder": 38,
    "_isFastLaunch": false,
    "category": "Accelerated computing",
    "gpuNum": 8,
    "hideHardwareSpecs": false,
    "memoryGiB": 768,
    "name": "ml.p3dn.24xlarge",
    "vcpuNum": 96
   },
   {
    "_defaultOrder": 39,
    "_isFastLaunch": false,
    "category": "Memory Optimized",
    "gpuNum": 0,
    "hideHardwareSpecs": false,
    "memoryGiB": 16,
    "name": "ml.r5.large",
    "vcpuNum": 2
   },
   {
    "_defaultOrder": 40,
    "_isFastLaunch": false,
    "category": "Memory Optimized",
    "gpuNum": 0,
    "hideHardwareSpecs": false,
    "memoryGiB": 32,
    "name": "ml.r5.xlarge",
    "vcpuNum": 4
   },
   {
    "_defaultOrder": 41,
    "_isFastLaunch": false,
    "category": "Memory Optimized",
    "gpuNum": 0,
    "hideHardwareSpecs": false,
    "memoryGiB": 64,
    "name": "ml.r5.2xlarge",
    "vcpuNum": 8
   },
   {
    "_defaultOrder": 42,
    "_isFastLaunch": false,
    "category": "Memory Optimized",
    "gpuNum": 0,
    "hideHardwareSpecs": false,
    "memoryGiB": 128,
    "name": "ml.r5.4xlarge",
    "vcpuNum": 16
   },
   {
    "_defaultOrder": 43,
    "_isFastLaunch": false,
    "category": "Memory Optimized",
    "gpuNum": 0,
    "hideHardwareSpecs": false,
    "memoryGiB": 256,
    "name": "ml.r5.8xlarge",
    "vcpuNum": 32
   },
   {
    "_defaultOrder": 44,
    "_isFastLaunch": false,
    "category": "Memory Optimized",
    "gpuNum": 0,
    "hideHardwareSpecs": false,
    "memoryGiB": 384,
    "name": "ml.r5.12xlarge",
    "vcpuNum": 48
   },
   {
    "_defaultOrder": 45,
    "_isFastLaunch": false,
    "category": "Memory Optimized",
    "gpuNum": 0,
    "hideHardwareSpecs": false,
    "memoryGiB": 512,
    "name": "ml.r5.16xlarge",
    "vcpuNum": 64
   },
   {
    "_defaultOrder": 46,
    "_isFastLaunch": false,
    "category": "Memory Optimized",
    "gpuNum": 0,
    "hideHardwareSpecs": false,
    "memoryGiB": 768,
    "name": "ml.r5.24xlarge",
    "vcpuNum": 96
   },
   {
    "_defaultOrder": 47,
    "_isFastLaunch": false,
    "category": "Accelerated computing",
    "gpuNum": 1,
    "hideHardwareSpecs": false,
    "memoryGiB": 16,
    "name": "ml.g5.xlarge",
    "vcpuNum": 4
   },
   {
    "_defaultOrder": 48,
    "_isFastLaunch": false,
    "category": "Accelerated computing",
    "gpuNum": 1,
    "hideHardwareSpecs": false,
    "memoryGiB": 32,
    "name": "ml.g5.2xlarge",
    "vcpuNum": 8
   },
   {
    "_defaultOrder": 49,
    "_isFastLaunch": false,
    "category": "Accelerated computing",
    "gpuNum": 1,
    "hideHardwareSpecs": false,
    "memoryGiB": 64,
    "name": "ml.g5.4xlarge",
    "vcpuNum": 16
   },
   {
    "_defaultOrder": 50,
    "_isFastLaunch": false,
    "category": "Accelerated computing",
    "gpuNum": 1,
    "hideHardwareSpecs": false,
    "memoryGiB": 128,
    "name": "ml.g5.8xlarge",
    "vcpuNum": 32
   },
   {
    "_defaultOrder": 51,
    "_isFastLaunch": false,
    "category": "Accelerated computing",
    "gpuNum": 1,
    "hideHardwareSpecs": false,
    "memoryGiB": 256,
    "name": "ml.g5.16xlarge",
    "vcpuNum": 64
   },
   {
    "_defaultOrder": 52,
    "_isFastLaunch": false,
    "category": "Accelerated computing",
    "gpuNum": 4,
    "hideHardwareSpecs": false,
    "memoryGiB": 192,
    "name": "ml.g5.12xlarge",
    "vcpuNum": 48
   },
   {
    "_defaultOrder": 53,
    "_isFastLaunch": false,
    "category": "Accelerated computing",
    "gpuNum": 4,
    "hideHardwareSpecs": false,
    "memoryGiB": 384,
    "name": "ml.g5.24xlarge",
    "vcpuNum": 96
   },
   {
    "_defaultOrder": 54,
    "_isFastLaunch": false,
    "category": "Accelerated computing",
    "gpuNum": 8,
    "hideHardwareSpecs": false,
    "memoryGiB": 768,
    "name": "ml.g5.48xlarge",
    "vcpuNum": 192
   },
   {
    "_defaultOrder": 55,
    "_isFastLaunch": false,
    "category": "Accelerated computing",
    "gpuNum": 8,
    "hideHardwareSpecs": false,
    "memoryGiB": 1152,
    "name": "ml.p4d.24xlarge",
    "vcpuNum": 96
   },
   {
    "_defaultOrder": 56,
    "_isFastLaunch": false,
    "category": "Accelerated computing",
    "gpuNum": 8,
    "hideHardwareSpecs": false,
    "memoryGiB": 1152,
    "name": "ml.p4de.24xlarge",
    "vcpuNum": 96
   }
  ],
  "instance_type": "ml.m5.2xlarge",
  "kernelspec": {
   "display_name": "Python 3 (ipykernel)",
   "language": "python",
   "name": "python3"
  },
  "language_info": {
   "codemirror_mode": {
    "name": "ipython",
    "version": 3
   },
   "file_extension": ".py",
   "mimetype": "text/x-python",
   "name": "python",
   "nbconvert_exporter": "python",
   "pygments_lexer": "ipython3",
   "version": "3.11.5"
  }
 },
 "nbformat": 4,
 "nbformat_minor": 5
}
