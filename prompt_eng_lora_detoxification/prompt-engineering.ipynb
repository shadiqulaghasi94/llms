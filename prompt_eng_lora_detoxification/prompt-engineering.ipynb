{
 "cells": [
  {
   "cell_type": "markdown",
   "metadata": {},
   "source": [
    "### Prompt Engineering: Summarize CNN news articles\n",
    "\n",
    "Generation of the summary of an article with the pre-trained Google's LLM [FLAN-T5](https://huggingface.co/google/flan-t5-base) from HuggingFace.The articles come from the [CNN dataset](https://huggingface.co/datasets/cnn_dailymail), which contains ~1M articles from the CNN DailyMail. They come with the corresponding manually labeled summaries.\n",
    "\n",
    "Key points:\n",
    "- The input text affects the output of the model\n",
    "- **Prompt engineering** can direct it towards the task you need\n",
    "- Zero-shot, one-shot, and few-shot inferences are all different ways to enhance the output of an LLM."
   ]
  },
  {
   "cell_type": "code",
   "execution_count": 44,
   "metadata": {
    "tags": []
   },
   "outputs": [],
   "source": [
    "# libraries\n",
    "import numpy as np\n",
    "from datasets import load_dataset                # huggingface datasets\n",
    "from transformers import AutoModelForSeq2SeqLM   # generic model class\n",
    "from transformers import AutoTokenizer           # generic tokenizer class\n",
    "from transformers import GenerationConfig        # generic task class"
   ]
  },
  {
   "cell_type": "markdown",
   "metadata": {},
   "source": [
    "#### Dataset"
   ]
  },
  {
   "cell_type": "code",
   "execution_count": 10,
   "metadata": {
    "tags": []
   },
   "outputs": [
    {
     "name": "stdout",
     "output_type": "stream",
     "text": [
      "Downloading and preparing dataset cnn_dailymail/3.0.0 to C:/Users/A0860164/.cache/huggingface/datasets/cnn_dailymail/3.0.0/3.0.0/1b3c71476f6d152c31c1730e83ccb08bcf23e348233f4fcc11e182248e6bf7de...\n"
     ]
    },
    {
     "data": {
      "application/vnd.jupyter.widget-view+json": {
       "model_id": "02c3dce43551416c8eadcbe2b139cbda",
       "version_major": 2,
       "version_minor": 0
      },
      "text/plain": [
       "Downloading data files:   0%|          | 0/5 [00:00<?, ?it/s]"
      ]
     },
     "metadata": {},
     "output_type": "display_data"
    },
    {
     "data": {
      "application/vnd.jupyter.widget-view+json": {
       "model_id": "da440aa2889140d69c3b249fa33bcd3a",
       "version_major": 2,
       "version_minor": 0
      },
      "text/plain": [
       "Downloading data:   0%|          | 0.00/159M [00:00<?, ?B/s]"
      ]
     },
     "metadata": {},
     "output_type": "display_data"
    },
    {
     "data": {
      "application/vnd.jupyter.widget-view+json": {
       "model_id": "40411c38c4ea4f05b4b34eb97be8508e",
       "version_major": 2,
       "version_minor": 0
      },
      "text/plain": [
       "Downloading data:   0%|          | 0.00/376M [00:00<?, ?B/s]"
      ]
     },
     "metadata": {},
     "output_type": "display_data"
    },
    {
     "data": {
      "application/vnd.jupyter.widget-view+json": {
       "model_id": "ea88c692237d487487f2022335b49236",
       "version_major": 2,
       "version_minor": 0
      },
      "text/plain": [
       "Downloading data:   0%|          | 0.00/12.3M [00:00<?, ?B/s]"
      ]
     },
     "metadata": {},
     "output_type": "display_data"
    },
    {
     "data": {
      "application/vnd.jupyter.widget-view+json": {
       "model_id": "3e8459c94caf4cde9928c8eb2c5c349a",
       "version_major": 2,
       "version_minor": 0
      },
      "text/plain": [
       "Downloading data:   0%|          | 0.00/661k [00:00<?, ?B/s]"
      ]
     },
     "metadata": {},
     "output_type": "display_data"
    },
    {
     "data": {
      "application/vnd.jupyter.widget-view+json": {
       "model_id": "2febd4f2bd4f4cf6837c83a2c011a9e9",
       "version_major": 2,
       "version_minor": 0
      },
      "text/plain": [
       "Downloading data:   0%|          | 0.00/572k [00:00<?, ?B/s]"
      ]
     },
     "metadata": {},
     "output_type": "display_data"
    },
    {
     "data": {
      "application/vnd.jupyter.widget-view+json": {
       "model_id": "",
       "version_major": 2,
       "version_minor": 0
      },
      "text/plain": [
       "Generating train split:   0%|          | 0/287113 [00:00<?, ? examples/s]"
      ]
     },
     "metadata": {},
     "output_type": "display_data"
    },
    {
     "data": {
      "application/vnd.jupyter.widget-view+json": {
       "model_id": "",
       "version_major": 2,
       "version_minor": 0
      },
      "text/plain": [
       "Generating validation split:   0%|          | 0/13368 [00:00<?, ? examples/s]"
      ]
     },
     "metadata": {},
     "output_type": "display_data"
    },
    {
     "data": {
      "application/vnd.jupyter.widget-view+json": {
       "model_id": "",
       "version_major": 2,
       "version_minor": 0
      },
      "text/plain": [
       "Generating test split:   0%|          | 0/11490 [00:00<?, ? examples/s]"
      ]
     },
     "metadata": {},
     "output_type": "display_data"
    },
    {
     "name": "stdout",
     "output_type": "stream",
     "text": [
      "Dataset cnn_dailymail downloaded and prepared to C:/Users/A0860164/.cache/huggingface/datasets/cnn_dailymail/3.0.0/3.0.0/1b3c71476f6d152c31c1730e83ccb08bcf23e348233f4fcc11e182248e6bf7de. Subsequent calls will reuse this data.\n"
     ]
    },
    {
     "data": {
      "application/vnd.jupyter.widget-view+json": {
       "model_id": "339a6ab58aa544af863ac651efb9bcd0",
       "version_major": 2,
       "version_minor": 0
      },
      "text/plain": [
       "  0%|          | 0/3 [00:00<?, ?it/s]"
      ]
     },
     "metadata": {},
     "output_type": "display_data"
    }
   ],
   "source": [
    "dataset = load_dataset(\"cnn_dailymail\", \"3.0.0\") # load dataset"
   ]
  },
  {
   "cell_type": "code",
   "execution_count": 92,
   "metadata": {
    "tags": []
   },
   "outputs": [
    {
     "name": "stdout",
     "output_type": "stream",
     "text": [
      "---------------------------------------------------------------------------------------------------\n",
      "Article n. 5925\n",
      "---------------------------------------------------------------------------------------------------\n",
      "INPUT ARTICLE:\n",
      "You’ve found the house of your dreams – but you want to make sure the costly nightmare of dry rot isn’t lurking under the carpets and skirting boards. The solution? Call in the dogs! The appropriately named Mark Doggett has trained his two animals to sniff out the destructive fungus in old houses where it can hide in places a person would miss. Mr Doggett gave up a ten-year career in construction after hitting on the idea to set up a business using the animals’ sense of smell, which is said to be up to a million times better than that of humans. Skilled: Meg and Jess, pictured with Mark Doggett, were trained for six months to sniff out dry rot . On the case: Four-year-old Border collie Meg gets down to work sniffing out the destructive fungus . When they find dry rot they stop, stare at it and point with their nose, only moving from the affected area when Mr Doggett gives them a special signal . After six months of training, four-year-old border collie Meg and 22-month-old English springer spaniel Jess went to work. When they find dry rot they stop, stare at it and point with their nose, only moving from the affected area when Mr Doggett gives them a special signal. The businessman, 30, from Wolverhampton, whose company is called Enviro-Dogs, said: ‘We’re unique in offering a dry rot detection service using dogs to the public. The dogs can go out to domestic properties or surveyors can hire us as part of their report. Dry rot is wood decay caused by the fungus Serpula lacrymans that digests the parts of the wood which give it strength. By the time there are visible signs, serious damage will have been done. It begins as a microscopic spore but the final stage is a fruiting body which pumps out new spores. Once airborne they can damage all parts of a property, penetrating brickwork and concrete floors seeking a wood source. If not treated, it can destroy a building. “It’s not really work for the dogs – they see it as the best game in the world and they enjoy it because it’s working on their natural instincts. The dogs are so effective because they can detect dry rot at much earlier stages. ‘In hidden places dry rot can grow for years without anyone noticing it. It can be hard to find but the dogs can detect it through carpet and wall panelling. ‘It takes a couple of minutes for the dog to search a room. People are slightly dubious when they first hear about us but after seeing what we can do they’re amazed.’ Prices start at £200 for a call-out and the business has been so successful Mr Doggett plans to expand it by training the dogs to hunt out bed bugs for hotels and hospitals. The businessman, 30, from Wolverhampton, whose company is called Enviro-Dogs, said: ‘We’re unique in offering a dry rot detection service using dogs to the public.' By the time there are visible signs of dry rot, serious damage will have been done . To call out Mr Doggett and his pair of sniffer dogs to hunt for dry rot cost £200 . Mr Doggett now plans to train his dogs to sniff out bed bugs for hospitals and hotels .\n",
      "---------------------------------------------------------------------------------------------------\n",
      "\n",
      "BASELINE HUMAN SUMMARY:\n",
      "Mark Doggett has trained his two dogs to sniff out the destructive fungus .\n",
      "His Border collie and English springer spaniel had six months training .\n",
      "When they find dry rot they stop, stare at it and point with their nose .\n",
      "---------------------------------------------------------------------------------------------------\n",
      "\n"
     ]
    }
   ],
   "source": [
    "# some examples\n",
    "np.random.seed(30)\n",
    "example_index = np.random.randint(0,dataset['test'].shape[0])\n",
    "print('-'.join('' for x in range(100)))\n",
    "print(f\"Article n. {example_index}\")\n",
    "print('-'.join('' for x in range(100)))\n",
    "print('INPUT ARTICLE:')\n",
    "print(dataset['test'][example_index]['article'])\n",
    "print('-'.join('' for x in range(100)))\n",
    "print()\n",
    "print('BASELINE HUMAN SUMMARY:')\n",
    "print(dataset['test'][example_index]['highlights'])\n",
    "print('-'.join('' for x in range(100)))\n",
    "print()"
   ]
  },
  {
   "cell_type": "markdown",
   "metadata": {},
   "source": [
    "#### Model\n",
    "\n",
    "Load the [FLAN-T5 model](https://huggingface.co/docs/transformers/model_doc/flan-t5) and tokenizer."
   ]
  },
  {
   "cell_type": "code",
   "execution_count": 93,
   "metadata": {
    "id": "iAYlS40Z3l-v",
    "tags": []
   },
   "outputs": [],
   "source": [
    "model_name = 'google/flan-t5-base'\n",
    "model = AutoModelForSeq2SeqLM.from_pretrained(model_name)            # instantiate the model\n",
    "tokenizer = AutoTokenizer.from_pretrained(model_name, use_fast=True) # instantiate the tokenizer"
   ]
  },
  {
   "cell_type": "code",
   "execution_count": 94,
   "metadata": {
    "tags": []
   },
   "outputs": [
    {
     "name": "stdout",
     "output_type": "stream",
     "text": [
      "INPUT SENTENCE:\n",
      "Breaking News: Christmas holidays are over! @^^^**#$%\n",
      "\n",
      "ENCODED SENTENCE:\n",
      "Input IDs: tensor([[11429,    53,  3529,    10,  1619,  6799,    33,   147,    55,  3320,\n",
      "             2, 19844,  4663,  3229,  1454,     1]])\n",
      "Attention Mask: tensor([[1, 1, 1, 1, 1, 1, 1, 1, 1, 1, 1, 1, 1, 1, 1, 1]])\n",
      "\n",
      "DECODED SENTENCE:\n",
      "Breaking News: Christmas holidays are over! @**#$%\n"
     ]
    }
   ],
   "source": [
    "# tokenizer encoding/decoding example\n",
    "sentence = \"Breaking News: Christmas holidays are over! @^^^**#$%\"\n",
    "sentence_encoded = tokenizer(sentence, return_tensors='pt')                       # return tokenization as pytorch tensor\n",
    "sentence_decoded = tokenizer.decode(sentence_encoded[\"input_ids\"][0], skip_special_tokens=True) # skipping special tokens\n",
    "\n",
    "print('INPUT SENTENCE:')\n",
    "print(f\"{sentence}\")\n",
    "print('\\nENCODED SENTENCE:')\n",
    "print(f\"Input IDs: {sentence_encoded['input_ids']}\")\n",
    "print(f\"Attention Mask: {sentence_encoded['attention_mask']}\")\n",
    "print('\\nDECODED SENTENCE:')\n",
    "print(sentence_decoded)"
   ]
  },
  {
   "cell_type": "markdown",
   "metadata": {},
   "source": [
    "#### Summarizing an Article without Prompt Engineering\n",
    "\n",
    "Let's generate a summary that is as long as the human-made one. **Note** that this is an arbitrary choice and that any length can be chosen."
   ]
  },
  {
   "cell_type": "code",
   "execution_count": null,
   "metadata": {},
   "outputs": [],
   "source": [
    "article = dataset['test'][example_index]['article']\n",
    "summary = dataset['test'][example_index]['highlights']\n",
    "max_new_tokens = len(tokenizer(summary)['input_ids'])"
   ]
  },
  {
   "cell_type": "code",
   "execution_count": 96,
   "metadata": {
    "tags": []
   },
   "outputs": [
    {
     "name": "stdout",
     "output_type": "stream",
     "text": [
      "---------------------------------------------------------------------------------------------------\n",
      "Article n. 5925\n",
      "---------------------------------------------------------------------------------------------------\n",
      "INPUT ARTICLE:\n",
      "You’ve found the house of your dreams – but you want to make sure the costly nightmare of dry rot isn’t lurking under the carpets and skirting boards. The solution? Call in the dogs! The appropriately named Mark Doggett has trained his two animals to sniff out the destructive fungus in old houses where it can hide in places a person would miss. Mr Doggett gave up a ten-year career in construction after hitting on the idea to set up a business using the animals’ sense of smell, which is said to be up to a million times better than that of humans. Skilled: Meg and Jess, pictured with Mark Doggett, were trained for six months to sniff out dry rot . On the case: Four-year-old Border collie Meg gets down to work sniffing out the destructive fungus . When they find dry rot they stop, stare at it and point with their nose, only moving from the affected area when Mr Doggett gives them a special signal . After six months of training, four-year-old border collie Meg and 22-month-old English springer spaniel Jess went to work. When they find dry rot they stop, stare at it and point with their nose, only moving from the affected area when Mr Doggett gives them a special signal. The businessman, 30, from Wolverhampton, whose company is called Enviro-Dogs, said: ‘We’re unique in offering a dry rot detection service using dogs to the public. The dogs can go out to domestic properties or surveyors can hire us as part of their report. Dry rot is wood decay caused by the fungus Serpula lacrymans that digests the parts of the wood which give it strength. By the time there are visible signs, serious damage will have been done. It begins as a microscopic spore but the final stage is a fruiting body which pumps out new spores. Once airborne they can damage all parts of a property, penetrating brickwork and concrete floors seeking a wood source. If not treated, it can destroy a building. “It’s not really work for the dogs – they see it as the best game in the world and they enjoy it because it’s working on their natural instincts. The dogs are so effective because they can detect dry rot at much earlier stages. ‘In hidden places dry rot can grow for years without anyone noticing it. It can be hard to find but the dogs can detect it through carpet and wall panelling. ‘It takes a couple of minutes for the dog to search a room. People are slightly dubious when they first hear about us but after seeing what we can do they’re amazed.’ Prices start at £200 for a call-out and the business has been so successful Mr Doggett plans to expand it by training the dogs to hunt out bed bugs for hotels and hospitals. The businessman, 30, from Wolverhampton, whose company is called Enviro-Dogs, said: ‘We’re unique in offering a dry rot detection service using dogs to the public.' By the time there are visible signs of dry rot, serious damage will have been done . To call out Mr Doggett and his pair of sniffer dogs to hunt for dry rot cost £200 . Mr Doggett now plans to train his dogs to sniff out bed bugs for hospitals and hotels .\n",
      "---------------------------------------------------------------------------------------------------\n",
      "\n",
      "BASELINE HUMAN SUMMARY (n. of tokens = 57):\n",
      "Mark Doggett has trained his two dogs to sniff out the destructive fungus .\n",
      "His Border collie and English springer spaniel had six months training .\n",
      "When they find dry rot they stop, stare at it and point with their nose .\n",
      "---------------------------------------------------------------------------------------------------\n",
      "\n",
      "MODEL GENERATION - WITHOUT PROMPT ENGINEERING:\n",
      "Mark Doggett has trained his two dogs to sniff out dry rot. The businessman, 30, from Wolverhampton, has been successful. He plans to train his dogs to hunt bed bugs for hospitals and hotels.\n",
      "\n"
     ]
    }
   ],
   "source": [
    "inputs = tokenizer(article, return_tensors='pt')\n",
    "output = tokenizer.decode(model.generate(inputs[\"input_ids\"], max_new_tokens=max_new_tokens)[0], skip_special_tokens=True)\n",
    "\n",
    "print('-'.join('' for x in range(100)))\n",
    "print(f\"Article n. {example_index}\")\n",
    "print('-'.join('' for x in range(100)))\n",
    "print('INPUT ARTICLE:')\n",
    "print(dataset['test'][example_index]['article'])\n",
    "print('-'.join('' for x in range(100)))\n",
    "print()\n",
    "print(f'BASELINE HUMAN SUMMARY (n. of tokens = {max_new_tokens}):')\n",
    "print(dataset['test'][example_index]['highlights'])\n",
    "print('-'.join('' for x in range(100)))\n",
    "print()\n",
    "print(f'MODEL GENERATION - WITHOUT PROMPT ENGINEERING:')\n",
    "print(output)\n",
    "print()"
   ]
  },
  {
   "cell_type": "markdown",
   "metadata": {},
   "source": [
    "As we can see, the generated text is linguistically correct. However, it doesn't accomplish the task we used it for: summarize the article. It justs pulls out some sentences inspired by the input text."
   ]
  },
  {
   "cell_type": "markdown",
   "metadata": {},
   "source": [
    "#### Summarizing an Article providing an Instruction Prompt"
   ]
  },
  {
   "cell_type": "markdown",
   "metadata": {},
   "source": [
    "##### Zero-Shot Inference\n",
    "\n",
    "This means wrapping the article in a prompt that clearly states the task to accomplish."
   ]
  },
  {
   "cell_type": "code",
   "execution_count": 98,
   "metadata": {
    "tags": []
   },
   "outputs": [
    {
     "name": "stdout",
     "output_type": "stream",
     "text": [
      "---------------------------------------------------------------------------------------------------\n",
      "Article n. 5925\n",
      "---------------------------------------------------------------------------------------------------\n",
      "INPUT PROMPT:\n",
      "You’ve found the house of your dreams – but you want to make sure the costly nightmare of dry rot isn’t lurking under the carpets and skirting boards. The solution? Call in the dogs! The appropriately named Mark Doggett has trained his two animals to sniff out the destructive fungus in old houses where it can hide in places a person would miss. Mr Doggett gave up a ten-year career in construction after hitting on the idea to set up a business using the animals’ sense of smell, which is said to be up to a million times better than that of humans. Skilled: Meg and Jess, pictured with Mark Doggett, were trained for six months to sniff out dry rot . On the case: Four-year-old Border collie Meg gets down to work sniffing out the destructive fungus . When they find dry rot they stop, stare at it and point with their nose, only moving from the affected area when Mr Doggett gives them a special signal . After six months of training, four-year-old border collie Meg and 22-month-old English springer spaniel Jess went to work. When they find dry rot they stop, stare at it and point with their nose, only moving from the affected area when Mr Doggett gives them a special signal. The businessman, 30, from Wolverhampton, whose company is called Enviro-Dogs, said: ‘We’re unique in offering a dry rot detection service using dogs to the public. The dogs can go out to domestic properties or surveyors can hire us as part of their report. Dry rot is wood decay caused by the fungus Serpula lacrymans that digests the parts of the wood which give it strength. By the time there are visible signs, serious damage will have been done. It begins as a microscopic spore but the final stage is a fruiting body which pumps out new spores. Once airborne they can damage all parts of a property, penetrating brickwork and concrete floors seeking a wood source. If not treated, it can destroy a building. “It’s not really work for the dogs – they see it as the best game in the world and they enjoy it because it’s working on their natural instincts. The dogs are so effective because they can detect dry rot at much earlier stages. ‘In hidden places dry rot can grow for years without anyone noticing it. It can be hard to find but the dogs can detect it through carpet and wall panelling. ‘It takes a couple of minutes for the dog to search a room. People are slightly dubious when they first hear about us but after seeing what we can do they’re amazed.’ Prices start at £200 for a call-out and the business has been so successful Mr Doggett plans to expand it by training the dogs to hunt out bed bugs for hotels and hospitals. The businessman, 30, from Wolverhampton, whose company is called Enviro-Dogs, said: ‘We’re unique in offering a dry rot detection service using dogs to the public.' By the time there are visible signs of dry rot, serious damage will have been done . To call out Mr Doggett and his pair of sniffer dogs to hunt for dry rot cost £200 . Mr Doggett now plans to train his dogs to sniff out bed bugs for hospitals and hotels .\n",
      "---------------------------------------------------------------------------------------------------\n",
      "\n",
      "BASELINE HUMAN SUMMARY (n. of tokens = 57):\n",
      "Mark Doggett has trained his two dogs to sniff out the destructive fungus .\n",
      "His Border collie and English springer spaniel had six months training .\n",
      "When they find dry rot they stop, stare at it and point with their nose .\n",
      "---------------------------------------------------------------------------------------------------\n",
      "\n",
      "MODEL GENERATION - ZERO SHOT:\n",
      "Mark Doggett has trained his dogs to sniff out dry rot. The businessman, 30, from Wolverhampton, has been successful. He plans to train his dogs to hunt bed bugs for hospitals and hotels.\n",
      "\n"
     ]
    }
   ],
   "source": [
    "prompt = f\"\"\"\n",
    "    Summarize the following article:\n",
    "        {article}\n",
    "    Summary:\n",
    "\"\"\"\n",
    "\n",
    "inputs = tokenizer(prompt, return_tensors='pt') # Input the constructed prompt instead of the article\n",
    "output = tokenizer.decode(model.generate(inputs[\"input_ids\"], max_new_tokens=max_new_tokens)[0], skip_special_tokens=True)\n",
    "\n",
    "print('-'.join('' for x in range(100)))\n",
    "print(f\"Article n. {example_index}\")\n",
    "print('-'.join('' for x in range(100)))\n",
    "print('INPUT PROMPT:')\n",
    "print(dataset['test'][example_index]['article'])\n",
    "print('-'.join('' for x in range(100)))\n",
    "print()\n",
    "print(f'BASELINE HUMAN SUMMARY (n. of tokens = {max_new_tokens}):')\n",
    "print(dataset['test'][example_index]['highlights'])\n",
    "print('-'.join('' for x in range(100)))\n",
    "print()\n",
    "print(f'MODEL GENERATION - ZERO SHOT:')\n",
    "print(output)\n",
    "print()"
   ]
  },
  {
   "cell_type": "markdown",
   "metadata": {},
   "source": [
    "We can see some improvements: the model understands which task to perform. However, it still doesn't perform it well. **Note** that changing the prompt structure `Summarize the following article: {article} Summary:` leads to different results."
   ]
  },
  {
   "cell_type": "markdown",
   "metadata": {},
   "source": [
    "##### Zero-Shot Inference with a Prompt Template from FLAN-T5\n",
    "\n",
    "Predefined prompts are available on HuggingFace for a wide range of models. The ones available for the model used here, FLAN-T5, can be found [here](https://github.com/google-research/FLAN/blob/main/flan/v2/templates.py)."
   ]
  },
  {
   "cell_type": "code",
   "execution_count": 113,
   "metadata": {
    "tags": []
   },
   "outputs": [
    {
     "name": "stdout",
     "output_type": "stream",
     "text": [
      "---------------------------------------------------------------------------------------------------\n",
      "Article n. 5925\n",
      "---------------------------------------------------------------------------------------------------\n",
      "INPUT PROMPT:\n",
      "You’ve found the house of your dreams – but you want to make sure the costly nightmare of dry rot isn’t lurking under the carpets and skirting boards. The solution? Call in the dogs! The appropriately named Mark Doggett has trained his two animals to sniff out the destructive fungus in old houses where it can hide in places a person would miss. Mr Doggett gave up a ten-year career in construction after hitting on the idea to set up a business using the animals’ sense of smell, which is said to be up to a million times better than that of humans. Skilled: Meg and Jess, pictured with Mark Doggett, were trained for six months to sniff out dry rot . On the case: Four-year-old Border collie Meg gets down to work sniffing out the destructive fungus . When they find dry rot they stop, stare at it and point with their nose, only moving from the affected area when Mr Doggett gives them a special signal . After six months of training, four-year-old border collie Meg and 22-month-old English springer spaniel Jess went to work. When they find dry rot they stop, stare at it and point with their nose, only moving from the affected area when Mr Doggett gives them a special signal. The businessman, 30, from Wolverhampton, whose company is called Enviro-Dogs, said: ‘We’re unique in offering a dry rot detection service using dogs to the public. The dogs can go out to domestic properties or surveyors can hire us as part of their report. Dry rot is wood decay caused by the fungus Serpula lacrymans that digests the parts of the wood which give it strength. By the time there are visible signs, serious damage will have been done. It begins as a microscopic spore but the final stage is a fruiting body which pumps out new spores. Once airborne they can damage all parts of a property, penetrating brickwork and concrete floors seeking a wood source. If not treated, it can destroy a building. “It’s not really work for the dogs – they see it as the best game in the world and they enjoy it because it’s working on their natural instincts. The dogs are so effective because they can detect dry rot at much earlier stages. ‘In hidden places dry rot can grow for years without anyone noticing it. It can be hard to find but the dogs can detect it through carpet and wall panelling. ‘It takes a couple of minutes for the dog to search a room. People are slightly dubious when they first hear about us but after seeing what we can do they’re amazed.’ Prices start at £200 for a call-out and the business has been so successful Mr Doggett plans to expand it by training the dogs to hunt out bed bugs for hotels and hospitals. The businessman, 30, from Wolverhampton, whose company is called Enviro-Dogs, said: ‘We’re unique in offering a dry rot detection service using dogs to the public.' By the time there are visible signs of dry rot, serious damage will have been done . To call out Mr Doggett and his pair of sniffer dogs to hunt for dry rot cost £200 . Mr Doggett now plans to train his dogs to sniff out bed bugs for hospitals and hotels .\n",
      "---------------------------------------------------------------------------------------------------\n",
      "\n",
      "BASELINE HUMAN SUMMARY (n. of tokens = 57):\n",
      "Mark Doggett has trained his two dogs to sniff out the destructive fungus .\n",
      "His Border collie and English springer spaniel had six months training .\n",
      "When they find dry rot they stop, stare at it and point with their nose .\n",
      "---------------------------------------------------------------------------------------------------\n",
      "\n",
      "MODEL GENERATION - ZERO SHOT:\n",
      "Mark Doggett has trained his dogs to sniff out dry rot. The businessman, 30, from Wolverhampton, has been successful. He plans to train his dogs to hunt bed bugs for hotels and hospitals.\n",
      "\n"
     ]
    }
   ],
   "source": [
    "prompt = f\"\"\"\n",
    "    Article:\n",
    "        {article}\n",
    "    What was going on?\n",
    "\"\"\"\n",
    "\n",
    "inputs = tokenizer(prompt, return_tensors='pt') # Input the constructed prompt instead of the article\n",
    "output = tokenizer.decode(model.generate(inputs[\"input_ids\"], max_new_tokens=max_new_tokens)[0], skip_special_tokens=True)\n",
    "\n",
    "print('-'.join('' for x in range(100)))\n",
    "print(f\"Article n. {example_index}\")\n",
    "print('-'.join('' for x in range(100)))\n",
    "print('INPUT PROMPT:')\n",
    "print(dataset['test'][example_index]['article'])\n",
    "print('-'.join('' for x in range(100)))\n",
    "print()\n",
    "print(f'BASELINE HUMAN SUMMARY (n. of tokens = {max_new_tokens}):')\n",
    "print(dataset['test'][example_index]['highlights'])\n",
    "print('-'.join('' for x in range(100)))\n",
    "print()\n",
    "print(f'MODEL GENERATION - ZERO SHOT:')\n",
    "print(output)\n",
    "print()"
   ]
  },
  {
   "cell_type": "markdown",
   "metadata": {},
   "source": [
    "No difference. Let's try now with **one-shot and few-shots inference**. These techniques provide one or few prompt-response pairs that match the task to the LLM, literally \"showing\" it what to do (*in-context learning*). It's useful to define a function that sets up one or more examples in the prompt."
   ]
  },
  {
   "cell_type": "code",
   "execution_count": 119,
   "metadata": {
    "tags": []
   },
   "outputs": [],
   "source": [
    "# function that creates prompts for one- or few-shots inference\n",
    "def make_prompt(full_example_indices, example_to_summarize_index):\n",
    "    prompt = ''\n",
    "    for index in full_example_indices:\n",
    "        article = dataset['test'][index]['article']\n",
    "        summary = dataset['test'][index]['highlights']\n",
    "        \n",
    "        # The stop sequence '{summary}\\n\\n\\n' is important for FLAN-T5. Other models may have their own preferred stop sequence.\n",
    "        prompt += f\"\"\"\n",
    "Article:\n",
    "\n",
    "{article}\n",
    "\n",
    "What was going on?\n",
    "{summary}\n",
    "\n",
    "\n",
    "\"\"\"\n",
    "    \n",
    "    article = dataset['test'][example_to_summarize_index]['article']\n",
    "\n",
    "    prompt += f\"\"\"\n",
    "Article:\n",
    "\n",
    "{article}\n",
    "\n",
    "What was going on?\n",
    "\"\"\"\n",
    "        \n",
    "    return prompt"
   ]
  },
  {
   "cell_type": "markdown",
   "metadata": {
    "tags": []
   },
   "source": [
    "##### One-Shot Inference\n",
    "\n",
    "Construct the prompt to perform one shot inference:"
   ]
  },
  {
   "cell_type": "code",
   "execution_count": 121,
   "metadata": {
    "tags": []
   },
   "outputs": [
    {
     "name": "stdout",
     "output_type": "stream",
     "text": [
      "\n",
      "Article:\n",
      "\n",
      "(CNN)A high temperature of 63.5 degrees Fahrenheit might sound like a pleasant day in early spring -- unless you're in Antarctica. The chilly continent recorded the temperature (15.5 degrees Celsius) on March 24, possibly the highest ever recorded on Antarctica, according to the Weather Underground. The temperature was recorded at Argentina's Esperanza Base on the northern tip of the Antarctica Peninsula, according to CNN affiliate WTNH. (Note to map lovers: The Argentine base is not geographically part of the South American continent.) The World Meteorological Organization, a specialized United Nations agency, is in the process of setting up an international ad-hoc committee of about 10 blue-ribbon climatologists and meteorologists to begin collecting relevant evidence, said Randy Cerveny, the agency's lead rapporteur of weather and climate extremes and Arizona State University professor of geographical sciences. The committee will examine the equipment used to measure the temperature, whether it was in good working order, whether the correct monitoring procedures were followed, whether the equipment was placed in the correct location and whether the measurement is matched by corresponding records from surrounding stations, Cerveny said. The committee will discuss the issues and make a recommendation to Cerveny, who will make an official finding, probably by late summer or early fall. Researchers who study climate change carefully watch weather changes in the Antarctic region and elsewhere for evidence that the Earth is getting warmer.\n",
      "\n",
      "What was going on?\n",
      "High temperatures are recorded on the northern tip of the Antarctica Peninsula .\n",
      "The World Meteorological Organization will make the final determination .\n",
      "\n",
      "\n",
      "\n",
      "Article:\n",
      "\n",
      "You’ve found the house of your dreams – but you want to make sure the costly nightmare of dry rot isn’t lurking under the carpets and skirting boards. The solution? Call in the dogs! The appropriately named Mark Doggett has trained his two animals to sniff out the destructive fungus in old houses where it can hide in places a person would miss. Mr Doggett gave up a ten-year career in construction after hitting on the idea to set up a business using the animals’ sense of smell, which is said to be up to a million times better than that of humans. Skilled: Meg and Jess, pictured with Mark Doggett, were trained for six months to sniff out dry rot . On the case: Four-year-old Border collie Meg gets down to work sniffing out the destructive fungus . When they find dry rot they stop, stare at it and point with their nose, only moving from the affected area when Mr Doggett gives them a special signal . After six months of training, four-year-old border collie Meg and 22-month-old English springer spaniel Jess went to work. When they find dry rot they stop, stare at it and point with their nose, only moving from the affected area when Mr Doggett gives them a special signal. The businessman, 30, from Wolverhampton, whose company is called Enviro-Dogs, said: ‘We’re unique in offering a dry rot detection service using dogs to the public. The dogs can go out to domestic properties or surveyors can hire us as part of their report. Dry rot is wood decay caused by the fungus Serpula lacrymans that digests the parts of the wood which give it strength. By the time there are visible signs, serious damage will have been done. It begins as a microscopic spore but the final stage is a fruiting body which pumps out new spores. Once airborne they can damage all parts of a property, penetrating brickwork and concrete floors seeking a wood source. If not treated, it can destroy a building. “It’s not really work for the dogs – they see it as the best game in the world and they enjoy it because it’s working on their natural instincts. The dogs are so effective because they can detect dry rot at much earlier stages. ‘In hidden places dry rot can grow for years without anyone noticing it. It can be hard to find but the dogs can detect it through carpet and wall panelling. ‘It takes a couple of minutes for the dog to search a room. People are slightly dubious when they first hear about us but after seeing what we can do they’re amazed.’ Prices start at £200 for a call-out and the business has been so successful Mr Doggett plans to expand it by training the dogs to hunt out bed bugs for hotels and hospitals. The businessman, 30, from Wolverhampton, whose company is called Enviro-Dogs, said: ‘We’re unique in offering a dry rot detection service using dogs to the public.' By the time there are visible signs of dry rot, serious damage will have been done . To call out Mr Doggett and his pair of sniffer dogs to hunt for dry rot cost £200 . Mr Doggett now plans to train his dogs to sniff out bed bugs for hospitals and hotels .\n",
      "\n",
      "What was going on?\n",
      "\n"
     ]
    }
   ],
   "source": [
    "full_example_indices = [40]             # one random example with human summary\n",
    "example_to_summarize_index = 5925       # the article used as reference in this notebook\n",
    "\n",
    "one_shot_prompt = make_prompt(full_example_indices, example_to_summarize_index)\n",
    "print(one_shot_prompt)"
   ]
  },
  {
   "cell_type": "markdown",
   "metadata": {
    "tags": []
   },
   "source": [
    "Now we pass this prompt to perform the one-shot inference:"
   ]
  },
  {
   "cell_type": "code",
   "execution_count": 126,
   "metadata": {
    "tags": []
   },
   "outputs": [
    {
     "name": "stdout",
     "output_type": "stream",
     "text": [
      "---------------------------------------------------------------------------------------------------\n",
      "BASELINE HUMAN SUMMARY:\n",
      "Mark Doggett has trained his two dogs to sniff out the destructive fungus .\n",
      "His Border collie and English springer spaniel had six months training .\n",
      "When they find dry rot they stop, stare at it and point with their nose .\n",
      "\n",
      "---------------------------------------------------------------------------------------------------\n",
      "MODEL GENERATION - ONE SHOT:\n",
      "Mark Doggett has trained his dogs to sniff out dry rot. The businessman, 30, from Wolverhampton, has been successful. He plans to train his dogs to hunt bed bugs for hospitals and hotels.\n",
      "\n"
     ]
    }
   ],
   "source": [
    "summary = dataset['test'][example_to_summarize_index]['highlights']\n",
    "\n",
    "inputs = tokenizer(one_shot_prompt, return_tensors='pt')\n",
    "output = tokenizer.decode(model.generate(inputs[\"input_ids\"], max_new_tokens=max_new_tokens)[0], skip_special_tokens=True)\n",
    "\n",
    "print('-'.join('' for x in range(100)))\n",
    "print(f'BASELINE HUMAN SUMMARY:')\n",
    "print(f'{summary}')\n",
    "print()\n",
    "print('-'.join('' for x in range(100)))\n",
    "print(f'MODEL GENERATION - ONE SHOT:')\n",
    "print(output)\n",
    "print()"
   ]
  },
  {
   "cell_type": "markdown",
   "metadata": {
    "tags": []
   },
   "source": [
    "##### Few-Shots Inference"
   ]
  },
  {
   "cell_type": "code",
   "execution_count": 137,
   "metadata": {
    "tags": []
   },
   "outputs": [
    {
     "name": "stdout",
     "output_type": "stream",
     "text": [
      "\n",
      "Article:\n",
      "\n",
      "(CNN)A high temperature of 63.5 degrees Fahrenheit might sound like a pleasant day in early spring -- unless you're in Antarctica. The chilly continent recorded the temperature (15.5 degrees Celsius) on March 24, possibly the highest ever recorded on Antarctica, according to the Weather Underground. The temperature was recorded at Argentina's Esperanza Base on the northern tip of the Antarctica Peninsula, according to CNN affiliate WTNH. (Note to map lovers: The Argentine base is not geographically part of the South American continent.) The World Meteorological Organization, a specialized United Nations agency, is in the process of setting up an international ad-hoc committee of about 10 blue-ribbon climatologists and meteorologists to begin collecting relevant evidence, said Randy Cerveny, the agency's lead rapporteur of weather and climate extremes and Arizona State University professor of geographical sciences. The committee will examine the equipment used to measure the temperature, whether it was in good working order, whether the correct monitoring procedures were followed, whether the equipment was placed in the correct location and whether the measurement is matched by corresponding records from surrounding stations, Cerveny said. The committee will discuss the issues and make a recommendation to Cerveny, who will make an official finding, probably by late summer or early fall. Researchers who study climate change carefully watch weather changes in the Antarctic region and elsewhere for evidence that the Earth is getting warmer.\n",
      "\n",
      "What was going on?\n",
      "High temperatures are recorded on the northern tip of the Antarctica Peninsula .\n",
      "The World Meteorological Organization will make the final determination .\n",
      "\n",
      "\n",
      "\n",
      "Article:\n",
      "\n",
      "(CNN)When photographer Johan Bavman became a father for the first time, he took more than a passing wonder about how his native Sweden is said to be the most generous nation on Earth for parental leave. He immersed himself in fatherhood -- twice over, you might say. He used his photography to document the real-life experience of other fathers taking full advantage of Sweden's extraordinary program, which allows mothers and fathers to take long, long leaves from their careers so they can care for their newborns. Get this: Sweden grants a total of 480 calendar days of parental leave, with 390 of them paid at 80% of income, with a maximum of 3,160 euros a month or $3,474. The remaining 90 days are paid at a flat-rate benefit of 20 euros a day, or $22. But there's a catch. Fathers have to share that leave with mothers. So to promote both parents to raise their children, Sweden has mandated that 60 of the 480 days be \"daddy months\" or \"partner months.\" If the 60 daddy days aren't used, they are lost, reducing the maximum leave to 420 days. The country also created a \"gender equality bonus\": the more days that parents share the leave equally, they get a bonus that could total up to 1,500 euros, or $1,649. The idea is for both parents to share the joys and struggles of raising infants. In reality, only 12% of Swedish couples equally share the 480 days of leave, Bavman said, with women continuing to lead the way as the stay-at-home parent and men as the careerist. Still, Bavman mused last summer about how the policy impacts those men who use the full measure of their parental leave. Social media . Follow @CNNPhotos on Twitter to join the conversation about photography. At first, Bavman had difficulty finding such men. But the fathers he did find and photograph, he captured their devotion in realistic imagery. \"I realized while I was talking to these dads, these dads are struck by how important the bonding is between you and the children,\" said Bavman, who now has a 3-year-old son, Viggo, with partner Linda Stark, a freelance journalist. \"I didn't want to bring out fathers as superdads,\" Bavman said. \"I wanted to bring out these role models which people can connect to. \"I want to have those dads who can also show their tiredness ... which comes with being home with your children. It's a hard full-time job. This is something that we have been taking for granted for hundreds of years. This is something that mothers have never been recognized for.\" He also found moments of humor, with one child nearly ripping apart the shirt of his busy father. The fathers have become more understanding of their wives and even their own mothers, Bavman said. Some are now considering a career change to accommodate their parenthood. \"Being home nine months, they get time to think about their life,\" the photographer said. Bavman is looking for a total of 60 fathers to photograph, to culminate in an exhibition and a book. So far he's found 35 worthy of his lens. Johan Bavman is a freelance photographer based in Malmo, Sweden. From 2008-2011, he worked as a staff photographer at Sydsvenskan, one of Sweden's largest newspapers.\n",
      "\n",
      "What was going on?\n",
      "Johan Bavman photographed fathers in Sweden, which has generous parental leave .\n",
      "Sweden's policies encourage fathers to take just as much leave as mothers .\n",
      "\n",
      "\n",
      "\n",
      "Article:\n",
      "\n",
      "A female prison guard and the convict she helped escape have been caught after 19 days and 1,700 miles on the run. Rachel Chepulis, 26, was arrested with Wesley E. Brown III in North Bend, Oregon almost three weeks after she helped him break out of Lake Region Correctional Center, also known as Devils Lake, in North Dakota. 35-year-old Brown, who is married with children, was awaiting sentencing after pleading guilty to being a felon in possession of a firearm - and is thought to have seduced single Chepulis while behind bars. Fugitive couple: Female prison guard Rachel Chepulis and felon Wesley E. Brown III have been captured in Oregon after she helped him escape from jail in North Dakota 19 days ago . His escape from Devils Lake on March 13., aided by Chepulis, is the second time he has broken out of a secure unit. In June 2013 he escaped from Heart of America Correctional Center, climbing over a fence at the prison's recreation area. On that occasion Brown was recaptured three hours later and transferred to Devils Lake prison, where he spent a considerable amount of time prior his second jail break in March. Dan Orr, chief deputy U.S. marshal for North Dakota, told the Daily News: 'It's clear in the time he was there they developed a relationship. That he was allowed to escape was assisted by the fact there were mistakes made by the jail. Caught: The pair managed to get 1,700 miles from the North Dakota jail before being captured in Oregon . 'He was classified at a lower level than he should have been considering he already escaped from another facility. And he had assistance from the female jailer. 'It was pretty clear the jail didn't realize what she had done. But once we began the investigation, we realized she had a direct involvement in the escape.' The Marshals Service relies on local jails to hold federal prisoners awaiting sentencing in North Dakota and during his time at Devils Lake, the convicted Brown must have befriended the single Chepulis, Mr Orr claimed. The fugitive couple was caught outside a Bi-Mart store in North Bend yesterday with the help of Oregon State Police, who tracked down Chepulis' 2015 Toyota Rav4 with North Dakota plates after a tip off from a nearby hotel. Chepulis, arrested as she returned to the vehicle, was found to have Brown's initials tattooed on her left ring finger. Married felon: Brown, who has a wife and childre, is thought to have befriended single Rachel Chepulis while locked up at Lake Region Correctional Center, also known as Devils Lake, in North Dakota, above . Brown is to face additional escape charges while Chepulis will be hit with instigating or assisting an escape, concealing a person from arrest and conspiracy to commit escape . Each charge carries a five-year prison sentence. The pair will be arraigned in Oregon, likely Thursday, and then held without bond as they face extradition to North Dakota. Mr Orr said he was unable to offer more details of the jail break or the couple's time on the run until the court affidavit is unsealed.\n",
      "\n",
      "What was going on?\n",
      "Rachel Chepulis helped Wesley E. Brown III break out of North Dakota jail .\n",
      "Fugitive couple captured yesterday outside store in North Bend, Oregon .\n",
      "Brown, 35, was awaiting sentencing for carrying a firearm as a felon .\n",
      "Chepulis, 26, found to have a tattoo of Brown's initials on her ring finger .\n",
      "\n",
      "\n",
      "\n",
      "Article:\n",
      "\n",
      "You’ve found the house of your dreams – but you want to make sure the costly nightmare of dry rot isn’t lurking under the carpets and skirting boards. The solution? Call in the dogs! The appropriately named Mark Doggett has trained his two animals to sniff out the destructive fungus in old houses where it can hide in places a person would miss. Mr Doggett gave up a ten-year career in construction after hitting on the idea to set up a business using the animals’ sense of smell, which is said to be up to a million times better than that of humans. Skilled: Meg and Jess, pictured with Mark Doggett, were trained for six months to sniff out dry rot . On the case: Four-year-old Border collie Meg gets down to work sniffing out the destructive fungus . When they find dry rot they stop, stare at it and point with their nose, only moving from the affected area when Mr Doggett gives them a special signal . After six months of training, four-year-old border collie Meg and 22-month-old English springer spaniel Jess went to work. When they find dry rot they stop, stare at it and point with their nose, only moving from the affected area when Mr Doggett gives them a special signal. The businessman, 30, from Wolverhampton, whose company is called Enviro-Dogs, said: ‘We’re unique in offering a dry rot detection service using dogs to the public. The dogs can go out to domestic properties or surveyors can hire us as part of their report. Dry rot is wood decay caused by the fungus Serpula lacrymans that digests the parts of the wood which give it strength. By the time there are visible signs, serious damage will have been done. It begins as a microscopic spore but the final stage is a fruiting body which pumps out new spores. Once airborne they can damage all parts of a property, penetrating brickwork and concrete floors seeking a wood source. If not treated, it can destroy a building. “It’s not really work for the dogs – they see it as the best game in the world and they enjoy it because it’s working on their natural instincts. The dogs are so effective because they can detect dry rot at much earlier stages. ‘In hidden places dry rot can grow for years without anyone noticing it. It can be hard to find but the dogs can detect it through carpet and wall panelling. ‘It takes a couple of minutes for the dog to search a room. People are slightly dubious when they first hear about us but after seeing what we can do they’re amazed.’ Prices start at £200 for a call-out and the business has been so successful Mr Doggett plans to expand it by training the dogs to hunt out bed bugs for hotels and hospitals. The businessman, 30, from Wolverhampton, whose company is called Enviro-Dogs, said: ‘We’re unique in offering a dry rot detection service using dogs to the public.' By the time there are visible signs of dry rot, serious damage will have been done . To call out Mr Doggett and his pair of sniffer dogs to hunt for dry rot cost £200 . Mr Doggett now plans to train his dogs to sniff out bed bugs for hospitals and hotels .\n",
      "\n",
      "What was going on?\n",
      "\n"
     ]
    }
   ],
   "source": [
    "full_example_indices = [40, 123, 6001]  # random examples with human summary\n",
    "example_to_summarize_index = 5925       # the article used as reference in this notebook\n",
    "\n",
    "few_shots_prompt = make_prompt(full_example_indices, example_to_summarize_index)\n",
    "print(few_shots_prompt)"
   ]
  },
  {
   "cell_type": "markdown",
   "metadata": {
    "tags": []
   },
   "source": [
    "Now we pass this prompt to perform the few-shots inference:"
   ]
  },
  {
   "cell_type": "code",
   "execution_count": 138,
   "metadata": {
    "tags": []
   },
   "outputs": [
    {
     "name": "stdout",
     "output_type": "stream",
     "text": [
      "---------------------------------------------------------------------------------------------------\n",
      "BASELINE HUMAN SUMMARY:\n",
      "Mark Doggett has trained his two dogs to sniff out the destructive fungus .\n",
      "His Border collie and English springer spaniel had six months training .\n",
      "When they find dry rot they stop, stare at it and point with their nose .\n",
      "\n",
      "---------------------------------------------------------------------------------------------------\n",
      "MODEL GENERATION - FEW SHOTS:\n",
      "Mark Doggett has trained his dogs to sniff out dry rot. The businessman, 30, from Wolverhampton, has been successful. He plans to train his dogs to hunt out bed bugs for hotels and hospitals.\n",
      "\n"
     ]
    }
   ],
   "source": [
    "summary = dataset['test'][example_to_summarize_index]['highlights']\n",
    "\n",
    "inputs = tokenizer(few_shots_prompt, return_tensors='pt')\n",
    "output = tokenizer.decode(model.generate(inputs[\"input_ids\"], max_new_tokens=max_new_tokens)[0], skip_special_tokens=True)\n",
    "\n",
    "print('-'.join('' for x in range(100)))\n",
    "print(f'BASELINE HUMAN SUMMARY:')\n",
    "print(f'{summary}')\n",
    "print()\n",
    "print('-'.join('' for x in range(100)))\n",
    "print(f'MODEL GENERATION - FEW SHOTS:')\n",
    "print(output)\n",
    "print()"
   ]
  },
  {
   "cell_type": "markdown",
   "metadata": {
    "tags": []
   },
   "source": [
    "As it's possible to see, changing the number of shots doesn't *always* improves the results. In this case, it didn't at all. In general, more than ca. 5 examples doesn't help, and so is the case if you exceed the maximum model's input-context length (here 512 tokens). Anything above this threshold will be ignored. It's important to realize that prompt engineering is powerful but doesn' always improve the results."
   ]
  },
  {
   "cell_type": "markdown",
   "metadata": {
    "tags": []
   },
   "source": [
    "#### Configuration Parameters for the `generate()` method"
   ]
  },
  {
   "cell_type": "markdown",
   "metadata": {},
   "source": [
    "So far we've used the default settings for `model.generate()` without changing anything but the `max_new_tokens`, i.e., the maximum number of tokens to generate. By looking at the documentation (available on the HuggingFace website), one can see that other parameters can be changed. The best way is to set the configuration via the `GenerationConfig` class."
   ]
  },
  {
   "cell_type": "code",
   "execution_count": 140,
   "metadata": {},
   "outputs": [],
   "source": [
    "model.generate?"
   ]
  },
  {
   "cell_type": "code",
   "execution_count": 143,
   "metadata": {},
   "outputs": [],
   "source": [
    "GenerationConfig?"
   ]
  },
  {
   "cell_type": "markdown",
   "metadata": {
    "tags": []
   },
   "source": [
    "Running the code line above, we can see that, among the other parameters, one can tweak the following ones:\n",
    "```\n",
    "    do_sample (`bool`, *optional*, defaults to `False`):\n",
    "        Whether or not to use sampling ; use greedy decoding otherwise.\n",
    "    temperature (`float`, *optional*, defaults to 1.0):\n",
    "        The value used to modulate the next token probabilities.\n",
    "    top_k (`int`, *optional*, defaults to 50):\n",
    "        The number of highest probability vocabulary tokens to keep for top-k-filtering.\n",
    "    top_p (`float`, *optional*, defaults to 1.0):\n",
    "        If set to float < 1, only the smallest set of most probable tokens with probabilities that add up to\n",
    "        `top_p` or higher are kept for generation.\n",
    "```\n",
    "Let's see what happens in few cases:"
   ]
  },
  {
   "cell_type": "code",
   "execution_count": 148,
   "metadata": {
    "tags": []
   },
   "outputs": [
    {
     "name": "stdout",
     "output_type": "stream",
     "text": [
      "---------------------------------------------------------------------------------------------------\n",
      "MODEL GENERATION - FEW SHOT:\n",
      "Mark Doggett has trained his dogs to sniff\n",
      "---------------------------------------------------------------------------------------------------\n",
      "MODEL GENERATION - FEW SHOT:\n",
      "Mark Doggett has trained his two dogs to\n",
      "---------------------------------------------------------------------------------------------------\n",
      "MODEL GENERATION - FEW SHOT:\n",
      "There could really cost lifes with meggines\n",
      "---------------------------------------------------------------------------------------------------\n",
      "MODEL GENERATION - FEW SHOT:\n",
      "Small house on North Yorkshire'll see millions under\n",
      "---------------------------------------------------------------------------------------------------\n",
      "MODEL GENERATION - FEW SHOT:\n",
      "Mark Doggett has trained his dogs to sniff out dry rot. He has set up \n",
      "---------------------------------------------------------------------------------------------------\n",
      "MODEL GENERATION - FEW SHOT:\n",
      "Mark Doggett took up ten-year career in construction after a career in construction.\n",
      "---------------------------------------------------------------------------------------------------\n",
      "MODEL GENERATION - FEW SHOT:\n",
      "Call your nearest sniffress from England; seem and recognise our secret homey deodorologist this\n",
      "---------------------------------------------------------------------------------------------------\n",
      "MODEL GENERATION - FEW SHOT:\n",
      "Mark Doyle got off the bus that dreamer dreams now wants an income mainly after selling her farm\n",
      "---------------------------------------------------------------------------------------------------\n",
      "MODEL GENERATION - FEW SHOT:\n",
      "Mark Doggett has trained his dogs to sniff out dry rot. The businessman, 30, from Wolverhampton, has been successful. He plans to train his dogs to hunt out bed bugs for hotels and hospitals.\n",
      "---------------------------------------------------------------------------------------------------\n",
      "MODEL GENERATION - FEW SHOT:\n",
      "Mark Doggett trained his dogs to sniff out dry rot. Owners in Wolverhampton set up business using dogs' sense of smell. Idea was to use dogs' natural instincts on a job. Meg was trained\n",
      "---------------------------------------------------------------------------------------------------\n",
      "MODEL GENERATION - FEW SHOT:\n",
      "Deteriorant decay and loss create one living insect infestation the birds see daily which have huge numbers this late October foraging on cologne flower leaves it is. No.cooperative Mrdogat went hunting before working himself to solve that nightmare after\n",
      "---------------------------------------------------------------------------------------------------\n",
      "MODEL GENERATION - FEW SHOT:\n",
      "Owner – Michael Dayton has turned dry spot near cottage shed on plottin. Equestrite material attract small bug easily but requires human team trained or experienced sniff dog and patience from others during investigation is expected through their dedication or interest as \n",
      "---------------------------------------------------------------------------------------------------\n",
      "BASELINE HUMAN SUMMARY:\n",
      "Mark Doggett has trained his two dogs to sniff out the destructive fungus .\n",
      "His Border collie and English springer spaniel had six months training .\n",
      "When they find dry rot they stop, stare at it and point with their nose .\n",
      "\n"
     ]
    }
   ],
   "source": [
    "print('-'.join('' for x in range(100)))\n",
    "for my_max_new_tokens in [10, 20, 50,]:\n",
    "    for my_do_sample in [True]:\n",
    "        for my_temperature in [0.1, 1., 10., 50.]:\n",
    "            generation_config = GenerationConfig(\n",
    "                max_new_tokens=my_max_new_tokens, \n",
    "                do_sample=my_do_sample, \n",
    "                temperature=my_temperature\n",
    "            )\n",
    "            inputs = tokenizer(few_shots_prompt, return_tensors='pt')\n",
    "            output = tokenizer.decode(\n",
    "                model.generate(inputs[\"input_ids\"], generation_config=generation_config)[0], \n",
    "                skip_special_tokens=True\n",
    "            )\n",
    "            print(f'MODEL GENERATION - FEW SHOT:\\n{output}')\n",
    "            print('-'.join('' for x in range(100)))\n",
    "print(f'BASELINE HUMAN SUMMARY:)\n",
    "print(summary)"
   ]
  },
  {
   "cell_type": "markdown",
   "metadata": {},
   "source": [
    "### Acknowledgements\n",
    "\n",
    "Thanks to DeepLearning.AI for the courses that inspired this notebook."
   ]
  }
 ],
 "metadata": {
  "availableInstances": [
   {
    "_defaultOrder": 0,
    "_isFastLaunch": true,
    "category": "General purpose",
    "gpuNum": 0,
    "hideHardwareSpecs": false,
    "memoryGiB": 4,
    "name": "ml.t3.medium",
    "vcpuNum": 2
   },
   {
    "_defaultOrder": 1,
    "_isFastLaunch": false,
    "category": "General purpose",
    "gpuNum": 0,
    "hideHardwareSpecs": false,
    "memoryGiB": 8,
    "name": "ml.t3.large",
    "vcpuNum": 2
   },
   {
    "_defaultOrder": 2,
    "_isFastLaunch": false,
    "category": "General purpose",
    "gpuNum": 0,
    "hideHardwareSpecs": false,
    "memoryGiB": 16,
    "name": "ml.t3.xlarge",
    "vcpuNum": 4
   },
   {
    "_defaultOrder": 3,
    "_isFastLaunch": false,
    "category": "General purpose",
    "gpuNum": 0,
    "hideHardwareSpecs": false,
    "memoryGiB": 32,
    "name": "ml.t3.2xlarge",
    "vcpuNum": 8
   },
   {
    "_defaultOrder": 4,
    "_isFastLaunch": true,
    "category": "General purpose",
    "gpuNum": 0,
    "hideHardwareSpecs": false,
    "memoryGiB": 8,
    "name": "ml.m5.large",
    "vcpuNum": 2
   },
   {
    "_defaultOrder": 5,
    "_isFastLaunch": false,
    "category": "General purpose",
    "gpuNum": 0,
    "hideHardwareSpecs": false,
    "memoryGiB": 16,
    "name": "ml.m5.xlarge",
    "vcpuNum": 4
   },
   {
    "_defaultOrder": 6,
    "_isFastLaunch": false,
    "category": "General purpose",
    "gpuNum": 0,
    "hideHardwareSpecs": false,
    "memoryGiB": 32,
    "name": "ml.m5.2xlarge",
    "vcpuNum": 8
   },
   {
    "_defaultOrder": 7,
    "_isFastLaunch": false,
    "category": "General purpose",
    "gpuNum": 0,
    "hideHardwareSpecs": false,
    "memoryGiB": 64,
    "name": "ml.m5.4xlarge",
    "vcpuNum": 16
   },
   {
    "_defaultOrder": 8,
    "_isFastLaunch": false,
    "category": "General purpose",
    "gpuNum": 0,
    "hideHardwareSpecs": false,
    "memoryGiB": 128,
    "name": "ml.m5.8xlarge",
    "vcpuNum": 32
   },
   {
    "_defaultOrder": 9,
    "_isFastLaunch": false,
    "category": "General purpose",
    "gpuNum": 0,
    "hideHardwareSpecs": false,
    "memoryGiB": 192,
    "name": "ml.m5.12xlarge",
    "vcpuNum": 48
   },
   {
    "_defaultOrder": 10,
    "_isFastLaunch": false,
    "category": "General purpose",
    "gpuNum": 0,
    "hideHardwareSpecs": false,
    "memoryGiB": 256,
    "name": "ml.m5.16xlarge",
    "vcpuNum": 64
   },
   {
    "_defaultOrder": 11,
    "_isFastLaunch": false,
    "category": "General purpose",
    "gpuNum": 0,
    "hideHardwareSpecs": false,
    "memoryGiB": 384,
    "name": "ml.m5.24xlarge",
    "vcpuNum": 96
   },
   {
    "_defaultOrder": 12,
    "_isFastLaunch": false,
    "category": "General purpose",
    "gpuNum": 0,
    "hideHardwareSpecs": false,
    "memoryGiB": 8,
    "name": "ml.m5d.large",
    "vcpuNum": 2
   },
   {
    "_defaultOrder": 13,
    "_isFastLaunch": false,
    "category": "General purpose",
    "gpuNum": 0,
    "hideHardwareSpecs": false,
    "memoryGiB": 16,
    "name": "ml.m5d.xlarge",
    "vcpuNum": 4
   },
   {
    "_defaultOrder": 14,
    "_isFastLaunch": false,
    "category": "General purpose",
    "gpuNum": 0,
    "hideHardwareSpecs": false,
    "memoryGiB": 32,
    "name": "ml.m5d.2xlarge",
    "vcpuNum": 8
   },
   {
    "_defaultOrder": 15,
    "_isFastLaunch": false,
    "category": "General purpose",
    "gpuNum": 0,
    "hideHardwareSpecs": false,
    "memoryGiB": 64,
    "name": "ml.m5d.4xlarge",
    "vcpuNum": 16
   },
   {
    "_defaultOrder": 16,
    "_isFastLaunch": false,
    "category": "General purpose",
    "gpuNum": 0,
    "hideHardwareSpecs": false,
    "memoryGiB": 128,
    "name": "ml.m5d.8xlarge",
    "vcpuNum": 32
   },
   {
    "_defaultOrder": 17,
    "_isFastLaunch": false,
    "category": "General purpose",
    "gpuNum": 0,
    "hideHardwareSpecs": false,
    "memoryGiB": 192,
    "name": "ml.m5d.12xlarge",
    "vcpuNum": 48
   },
   {
    "_defaultOrder": 18,
    "_isFastLaunch": false,
    "category": "General purpose",
    "gpuNum": 0,
    "hideHardwareSpecs": false,
    "memoryGiB": 256,
    "name": "ml.m5d.16xlarge",
    "vcpuNum": 64
   },
   {
    "_defaultOrder": 19,
    "_isFastLaunch": false,
    "category": "General purpose",
    "gpuNum": 0,
    "hideHardwareSpecs": false,
    "memoryGiB": 384,
    "name": "ml.m5d.24xlarge",
    "vcpuNum": 96
   },
   {
    "_defaultOrder": 20,
    "_isFastLaunch": false,
    "category": "General purpose",
    "gpuNum": 0,
    "hideHardwareSpecs": true,
    "memoryGiB": 0,
    "name": "ml.geospatial.interactive",
    "supportedImageNames": [
     "sagemaker-geospatial-v1-0"
    ],
    "vcpuNum": 0
   },
   {
    "_defaultOrder": 21,
    "_isFastLaunch": true,
    "category": "Compute optimized",
    "gpuNum": 0,
    "hideHardwareSpecs": false,
    "memoryGiB": 4,
    "name": "ml.c5.large",
    "vcpuNum": 2
   },
   {
    "_defaultOrder": 22,
    "_isFastLaunch": false,
    "category": "Compute optimized",
    "gpuNum": 0,
    "hideHardwareSpecs": false,
    "memoryGiB": 8,
    "name": "ml.c5.xlarge",
    "vcpuNum": 4
   },
   {
    "_defaultOrder": 23,
    "_isFastLaunch": false,
    "category": "Compute optimized",
    "gpuNum": 0,
    "hideHardwareSpecs": false,
    "memoryGiB": 16,
    "name": "ml.c5.2xlarge",
    "vcpuNum": 8
   },
   {
    "_defaultOrder": 24,
    "_isFastLaunch": false,
    "category": "Compute optimized",
    "gpuNum": 0,
    "hideHardwareSpecs": false,
    "memoryGiB": 32,
    "name": "ml.c5.4xlarge",
    "vcpuNum": 16
   },
   {
    "_defaultOrder": 25,
    "_isFastLaunch": false,
    "category": "Compute optimized",
    "gpuNum": 0,
    "hideHardwareSpecs": false,
    "memoryGiB": 72,
    "name": "ml.c5.9xlarge",
    "vcpuNum": 36
   },
   {
    "_defaultOrder": 26,
    "_isFastLaunch": false,
    "category": "Compute optimized",
    "gpuNum": 0,
    "hideHardwareSpecs": false,
    "memoryGiB": 96,
    "name": "ml.c5.12xlarge",
    "vcpuNum": 48
   },
   {
    "_defaultOrder": 27,
    "_isFastLaunch": false,
    "category": "Compute optimized",
    "gpuNum": 0,
    "hideHardwareSpecs": false,
    "memoryGiB": 144,
    "name": "ml.c5.18xlarge",
    "vcpuNum": 72
   },
   {
    "_defaultOrder": 28,
    "_isFastLaunch": false,
    "category": "Compute optimized",
    "gpuNum": 0,
    "hideHardwareSpecs": false,
    "memoryGiB": 192,
    "name": "ml.c5.24xlarge",
    "vcpuNum": 96
   },
   {
    "_defaultOrder": 29,
    "_isFastLaunch": true,
    "category": "Accelerated computing",
    "gpuNum": 1,
    "hideHardwareSpecs": false,
    "memoryGiB": 16,
    "name": "ml.g4dn.xlarge",
    "vcpuNum": 4
   },
   {
    "_defaultOrder": 30,
    "_isFastLaunch": false,
    "category": "Accelerated computing",
    "gpuNum": 1,
    "hideHardwareSpecs": false,
    "memoryGiB": 32,
    "name": "ml.g4dn.2xlarge",
    "vcpuNum": 8
   },
   {
    "_defaultOrder": 31,
    "_isFastLaunch": false,
    "category": "Accelerated computing",
    "gpuNum": 1,
    "hideHardwareSpecs": false,
    "memoryGiB": 64,
    "name": "ml.g4dn.4xlarge",
    "vcpuNum": 16
   },
   {
    "_defaultOrder": 32,
    "_isFastLaunch": false,
    "category": "Accelerated computing",
    "gpuNum": 1,
    "hideHardwareSpecs": false,
    "memoryGiB": 128,
    "name": "ml.g4dn.8xlarge",
    "vcpuNum": 32
   },
   {
    "_defaultOrder": 33,
    "_isFastLaunch": false,
    "category": "Accelerated computing",
    "gpuNum": 4,
    "hideHardwareSpecs": false,
    "memoryGiB": 192,
    "name": "ml.g4dn.12xlarge",
    "vcpuNum": 48
   },
   {
    "_defaultOrder": 34,
    "_isFastLaunch": false,
    "category": "Accelerated computing",
    "gpuNum": 1,
    "hideHardwareSpecs": false,
    "memoryGiB": 256,
    "name": "ml.g4dn.16xlarge",
    "vcpuNum": 64
   },
   {
    "_defaultOrder": 35,
    "_isFastLaunch": false,
    "category": "Accelerated computing",
    "gpuNum": 1,
    "hideHardwareSpecs": false,
    "memoryGiB": 61,
    "name": "ml.p3.2xlarge",
    "vcpuNum": 8
   },
   {
    "_defaultOrder": 36,
    "_isFastLaunch": false,
    "category": "Accelerated computing",
    "gpuNum": 4,
    "hideHardwareSpecs": false,
    "memoryGiB": 244,
    "name": "ml.p3.8xlarge",
    "vcpuNum": 32
   },
   {
    "_defaultOrder": 37,
    "_isFastLaunch": false,
    "category": "Accelerated computing",
    "gpuNum": 8,
    "hideHardwareSpecs": false,
    "memoryGiB": 488,
    "name": "ml.p3.16xlarge",
    "vcpuNum": 64
   },
   {
    "_defaultOrder": 38,
    "_isFastLaunch": false,
    "category": "Accelerated computing",
    "gpuNum": 8,
    "hideHardwareSpecs": false,
    "memoryGiB": 768,
    "name": "ml.p3dn.24xlarge",
    "vcpuNum": 96
   },
   {
    "_defaultOrder": 39,
    "_isFastLaunch": false,
    "category": "Memory Optimized",
    "gpuNum": 0,
    "hideHardwareSpecs": false,
    "memoryGiB": 16,
    "name": "ml.r5.large",
    "vcpuNum": 2
   },
   {
    "_defaultOrder": 40,
    "_isFastLaunch": false,
    "category": "Memory Optimized",
    "gpuNum": 0,
    "hideHardwareSpecs": false,
    "memoryGiB": 32,
    "name": "ml.r5.xlarge",
    "vcpuNum": 4
   },
   {
    "_defaultOrder": 41,
    "_isFastLaunch": false,
    "category": "Memory Optimized",
    "gpuNum": 0,
    "hideHardwareSpecs": false,
    "memoryGiB": 64,
    "name": "ml.r5.2xlarge",
    "vcpuNum": 8
   },
   {
    "_defaultOrder": 42,
    "_isFastLaunch": false,
    "category": "Memory Optimized",
    "gpuNum": 0,
    "hideHardwareSpecs": false,
    "memoryGiB": 128,
    "name": "ml.r5.4xlarge",
    "vcpuNum": 16
   },
   {
    "_defaultOrder": 43,
    "_isFastLaunch": false,
    "category": "Memory Optimized",
    "gpuNum": 0,
    "hideHardwareSpecs": false,
    "memoryGiB": 256,
    "name": "ml.r5.8xlarge",
    "vcpuNum": 32
   },
   {
    "_defaultOrder": 44,
    "_isFastLaunch": false,
    "category": "Memory Optimized",
    "gpuNum": 0,
    "hideHardwareSpecs": false,
    "memoryGiB": 384,
    "name": "ml.r5.12xlarge",
    "vcpuNum": 48
   },
   {
    "_defaultOrder": 45,
    "_isFastLaunch": false,
    "category": "Memory Optimized",
    "gpuNum": 0,
    "hideHardwareSpecs": false,
    "memoryGiB": 512,
    "name": "ml.r5.16xlarge",
    "vcpuNum": 64
   },
   {
    "_defaultOrder": 46,
    "_isFastLaunch": false,
    "category": "Memory Optimized",
    "gpuNum": 0,
    "hideHardwareSpecs": false,
    "memoryGiB": 768,
    "name": "ml.r5.24xlarge",
    "vcpuNum": 96
   },
   {
    "_defaultOrder": 47,
    "_isFastLaunch": false,
    "category": "Accelerated computing",
    "gpuNum": 1,
    "hideHardwareSpecs": false,
    "memoryGiB": 16,
    "name": "ml.g5.xlarge",
    "vcpuNum": 4
   },
   {
    "_defaultOrder": 48,
    "_isFastLaunch": false,
    "category": "Accelerated computing",
    "gpuNum": 1,
    "hideHardwareSpecs": false,
    "memoryGiB": 32,
    "name": "ml.g5.2xlarge",
    "vcpuNum": 8
   },
   {
    "_defaultOrder": 49,
    "_isFastLaunch": false,
    "category": "Accelerated computing",
    "gpuNum": 1,
    "hideHardwareSpecs": false,
    "memoryGiB": 64,
    "name": "ml.g5.4xlarge",
    "vcpuNum": 16
   },
   {
    "_defaultOrder": 50,
    "_isFastLaunch": false,
    "category": "Accelerated computing",
    "gpuNum": 1,
    "hideHardwareSpecs": false,
    "memoryGiB": 128,
    "name": "ml.g5.8xlarge",
    "vcpuNum": 32
   },
   {
    "_defaultOrder": 51,
    "_isFastLaunch": false,
    "category": "Accelerated computing",
    "gpuNum": 1,
    "hideHardwareSpecs": false,
    "memoryGiB": 256,
    "name": "ml.g5.16xlarge",
    "vcpuNum": 64
   },
   {
    "_defaultOrder": 52,
    "_isFastLaunch": false,
    "category": "Accelerated computing",
    "gpuNum": 4,
    "hideHardwareSpecs": false,
    "memoryGiB": 192,
    "name": "ml.g5.12xlarge",
    "vcpuNum": 48
   },
   {
    "_defaultOrder": 53,
    "_isFastLaunch": false,
    "category": "Accelerated computing",
    "gpuNum": 4,
    "hideHardwareSpecs": false,
    "memoryGiB": 384,
    "name": "ml.g5.24xlarge",
    "vcpuNum": 96
   },
   {
    "_defaultOrder": 54,
    "_isFastLaunch": false,
    "category": "Accelerated computing",
    "gpuNum": 8,
    "hideHardwareSpecs": false,
    "memoryGiB": 768,
    "name": "ml.g5.48xlarge",
    "vcpuNum": 192
   },
   {
    "_defaultOrder": 55,
    "_isFastLaunch": false,
    "category": "Accelerated computing",
    "gpuNum": 8,
    "hideHardwareSpecs": false,
    "memoryGiB": 1152,
    "name": "ml.p4d.24xlarge",
    "vcpuNum": 96
   },
   {
    "_defaultOrder": 56,
    "_isFastLaunch": false,
    "category": "Accelerated computing",
    "gpuNum": 8,
    "hideHardwareSpecs": false,
    "memoryGiB": 1152,
    "name": "ml.p4de.24xlarge",
    "vcpuNum": 96
   }
  ],
  "instance_type": "ml.m5.2xlarge",
  "kernelspec": {
   "display_name": "Python 3 (ipykernel)",
   "language": "python",
   "name": "python3"
  },
  "language_info": {
   "codemirror_mode": {
    "name": "ipython",
    "version": 3
   },
   "file_extension": ".py",
   "mimetype": "text/x-python",
   "name": "python",
   "nbconvert_exporter": "python",
   "pygments_lexer": "ipython3",
   "version": "3.11.5"
  }
 },
 "nbformat": 4,
 "nbformat_minor": 4
}
